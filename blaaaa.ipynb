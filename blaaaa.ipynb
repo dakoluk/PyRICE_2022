{
 "cells": [
  {
   "cell_type": "code",
   "execution_count": 8,
   "outputs": [],
   "source": [
    "%matplotlib inline\n",
    "import pandas as pd\n",
    "import matplotlib.pyplot as plt\n",
    "import seaborn as sns\n",
    "import numpy as np\n",
    "plt.rcParams['figure.figsize'] = (50.0, 30.0)\n",
    "plt.rcParams['font.family'] = \"serif\""
   ],
   "metadata": {
    "collapsed": false,
    "pycharm": {
     "name": "#%%\n"
    }
   }
  },
  {
   "cell_type": "code",
   "execution_count": 9,
   "outputs": [
    {
     "data": {
      "text/plain": "            x         y\n0    0.091205  1.091283\n1   -1.946970 -1.386350\n2   -2.296492  2.409834\n3    1.727836  2.204556\n4    0.794828  0.976421\n..        ...       ...\n995  1.193191 -0.603826\n996  0.879184 -0.961736\n997 -0.560893 -0.339974\n998  0.012976  0.798057\n999 -0.492501 -1.775680\n\n[1000 rows x 2 columns]",
      "text/html": "<div>\n<style scoped>\n    .dataframe tbody tr th:only-of-type {\n        vertical-align: middle;\n    }\n\n    .dataframe tbody tr th {\n        vertical-align: top;\n    }\n\n    .dataframe thead th {\n        text-align: right;\n    }\n</style>\n<table border=\"1\" class=\"dataframe\">\n  <thead>\n    <tr style=\"text-align: right;\">\n      <th></th>\n      <th>x</th>\n      <th>y</th>\n    </tr>\n  </thead>\n  <tbody>\n    <tr>\n      <th>0</th>\n      <td>0.091205</td>\n      <td>1.091283</td>\n    </tr>\n    <tr>\n      <th>1</th>\n      <td>-1.946970</td>\n      <td>-1.386350</td>\n    </tr>\n    <tr>\n      <th>2</th>\n      <td>-2.296492</td>\n      <td>2.409834</td>\n    </tr>\n    <tr>\n      <th>3</th>\n      <td>1.727836</td>\n      <td>2.204556</td>\n    </tr>\n    <tr>\n      <th>4</th>\n      <td>0.794828</td>\n      <td>0.976421</td>\n    </tr>\n    <tr>\n      <th>...</th>\n      <td>...</td>\n      <td>...</td>\n    </tr>\n    <tr>\n      <th>995</th>\n      <td>1.193191</td>\n      <td>-0.603826</td>\n    </tr>\n    <tr>\n      <th>996</th>\n      <td>0.879184</td>\n      <td>-0.961736</td>\n    </tr>\n    <tr>\n      <th>997</th>\n      <td>-0.560893</td>\n      <td>-0.339974</td>\n    </tr>\n    <tr>\n      <th>998</th>\n      <td>0.012976</td>\n      <td>0.798057</td>\n    </tr>\n    <tr>\n      <th>999</th>\n      <td>-0.492501</td>\n      <td>-1.775680</td>\n    </tr>\n  </tbody>\n</table>\n<p>1000 rows × 2 columns</p>\n</div>"
     },
     "execution_count": 9,
     "metadata": {},
     "output_type": "execute_result"
    }
   ],
   "source": [
    "x, y = np.random.RandomState(8).multivariate_normal([0, 0], [(1, 0), (0, 1)], 1000).T\n",
    "df = pd.DataFrame({\"x\":x,\"y\":y})\n",
    "df"
   ],
   "metadata": {
    "collapsed": false,
    "pycharm": {
     "name": "#%%\n"
    }
   }
  },
  {
   "cell_type": "code",
   "execution_count": 17,
   "outputs": [
    {
     "data": {
      "text/plain": "<Figure size 432x432 with 3 Axes>",
      "image/png": "[encoded data removed]"
     },
     "metadata": {
      "needs_background": "light"
     },
     "output_type": "display_data"
    }
   ],
   "source": [
    "x = df.loc[:, 'x']\n",
    "y = df.loc[:, 'y']\n",
    "\n",
    "\n",
    "p = sns.jointplot(x=x, y=y, kind='hist')"
   ],
   "metadata": {
    "collapsed": false,
    "pycharm": {
     "name": "#%%\n"
    }
   }
  },
  {
   "cell_type": "code",
   "execution_count": null,
   "outputs": [],
   "source": [],
   "metadata": {
    "collapsed": false,
    "pycharm": {
     "name": "#%%\n"
    }
   }
  }
 ],
 "metadata": {
  "kernelspec": {
   "display_name": "Python 3",
   "language": "python",
   "name": "python3"
  },
  "language_info": {
   "codemirror_mode": {
    "name": "ipython",
    "version": 2
   },
   "file_extension": ".py",
   "mimetype": "text/x-python",
   "name": "python",
   "nbconvert_exporter": "python",
   "pygments_lexer": "ipython2",
   "version": "2.7.6"
  }
 },
 "nbformat": 4,
 "nbformat_minor": 0
}