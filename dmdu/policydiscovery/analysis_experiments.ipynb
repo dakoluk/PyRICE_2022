{
 "cells": [
  {
   "cell_type": "markdown",
   "source": [
    "# Analysis of experiments with optimal policies\n",
    "\n",
    "This notebook is used to"
   ],
   "metadata": {
    "collapsed": false,
    "pycharm": {
     "name": "#%% md\n"
    }
   }
  },
  {
   "cell_type": "code",
   "execution_count": 1,
   "outputs": [],
   "source": [
    "import pandas as pd\n",
    "from ema_workbench import load_results\n",
    "import os\n",
    "from dmdu.general.visualization import plot_kpi_pathways, plot_policies_per_problem_formulation\n",
    "from dmdu.policydiscovery.robustness import get_robustness_dataframe\n",
    "from model.enumerations import ProblemFormulation"
   ],
   "metadata": {
    "collapsed": false,
    "pycharm": {
     "name": "#%%\n"
    }
   }
  },
  {
   "cell_type": "markdown",
   "source": [
    "## Relevant KPI names"
   ],
   "metadata": {
    "collapsed": false,
    "pycharm": {
     "name": "#%% md\n"
    }
   }
  },
  {
   "cell_type": "code",
   "execution_count": 2,
   "outputs": [],
   "source": [
    "names = [\n",
    "    'Utility',\n",
    "    'Total Output',\n",
    "    'Damages',\n",
    "    'Atmospheric Temperature',\n",
    "    'Industrial Emission',\n",
    "    'Temperature overshoot'\n",
    "]"
   ],
   "metadata": {
    "collapsed": false,
    "pycharm": {
     "name": "#%%\n"
    }
   }
  },
  {
   "cell_type": "markdown",
   "source": [
    "## Relevant Problem Formulations"
   ],
   "metadata": {
    "collapsed": false,
    "pycharm": {
     "name": "#%% md\n"
    }
   }
  },
  {
   "cell_type": "code",
   "execution_count": 3,
   "outputs": [],
   "source": [
    "problem_formulations = [\n",
    "    ProblemFormulation.PRIORITARIAN_DISAGGREGATED,\n",
    "    ProblemFormulation.PRIORITARIAN_AGGREGATED\n",
    "]"
   ],
   "metadata": {
    "collapsed": false,
    "pycharm": {
     "name": "#%%\n"
    }
   }
  },
  {
   "cell_type": "markdown",
   "source": [
    "## Loading experimental results"
   ],
   "metadata": {
    "collapsed": false,
    "pycharm": {
     "name": "#%% md\n"
    }
   }
  },
  {
   "cell_type": "code",
   "execution_count": 4,
   "outputs": [],
   "source": [
    "problem_formulations_dict = {}\n",
    "\n",
    "for problem_formulation in problem_formulations:\n",
    "    target_directory = os.path.join(os.getcwd(), 'data', f'optimal_policies_{problem_formulation.name}')\n",
    "    experiments, outcomes = load_results(target_directory)\n",
    "    outcomes = pd.DataFrame(outcomes)\n",
    "    problem_formulations_dict[problem_formulation.name] = experiments, outcomes"
   ],
   "metadata": {
    "collapsed": false,
    "pycharm": {
     "name": "#%%\n"
    }
   }
  },
  {
   "cell_type": "markdown",
   "source": [
    "## Visualization of pathways"
   ],
   "metadata": {
    "collapsed": false,
    "pycharm": {
     "name": "#%% md\n"
    }
   }
  },
  {
   "cell_type": "code",
   "execution_count": 5,
   "outputs": [],
   "source": [
    "plot_kpi_pathways(problem_formulations_dict, names, saving=True, file_name='KPI_pathways_test')"
   ],
   "metadata": {
    "collapsed": false,
    "pycharm": {
     "name": "#%%\n"
    }
   }
  },
  {
   "cell_type": "markdown",
   "source": [
    "## Visualization of Pareto-optimal policies"
   ],
   "metadata": {
    "collapsed": false,
    "pycharm": {
     "name": "#%% md\n"
    }
   }
  },
  {
   "cell_type": "code",
   "execution_count": 6,
   "outputs": [],
   "source": [
    "plot_policies_per_problem_formulation(problem_formulations_dict)"
   ],
   "metadata": {
    "collapsed": false,
    "pycharm": {
     "name": "#%%\n"
    }
   }
  },
  {
   "cell_type": "markdown",
   "source": [
    "## Robustness"
   ],
   "metadata": {
    "collapsed": false,
    "pycharm": {
     "name": "#%% md\n"
    }
   }
  },
  {
   "cell_type": "code",
   "execution_count": 7,
   "outputs": [
    {
     "name": "stderr",
     "output_type": "stream",
     "text": [
      "/Users/reddel/PycharmProjects/PyRICE_2022/dmdu/policydiscovery/robustness.py:148: FutureWarning: Support for multi-dimensional indexing (e.g. `obj[:, None]`) is deprecated and will be removed in a future version.  Convert to a numpy array before indexing instead.\n",
      "  regrets = (data.min(axis=1)[:, np.newaxis] - data).abs()\n"
     ]
    }
   ],
   "source": [
    "robustnes_dataframe = None\n",
    "names = [\n",
    "    'Utility',\n",
    "    'Total Output',\n",
    "    'Damages',\n",
    "    'Atmospheric Temperature',\n",
    "    'Industrial Emission',\n",
    "    'Temperature overshoot'\n",
    "]\n",
    "names = [name + ' 2105' for name in names]\n",
    "\n",
    "\n",
    "for problem_formulation, (experiments, outcomes) in problem_formulations_dict.items():\n",
    "\n",
    "    outcomes = outcomes.loc[:, names]\n",
    "    robustnes_dataframe = get_robustness_dataframe(experiments, outcomes)\n",
    "\n",
    "    break"
   ],
   "metadata": {
    "collapsed": false,
    "pycharm": {
     "name": "#%%\n"
    }
   }
  },
  {
   "cell_type": "code",
   "execution_count": 8,
   "outputs": [
    {
     "data": {
      "text/plain": "    Policy  hurwicz(Utility 2105)  minimax(Total Output 2105)  \\\n0        0            4594.773593                   77.271421   \n1        1            9268.738383                   97.319108   \n2        2            6497.585923                   95.241951   \n3        3            3772.751655                   91.730363   \n4        4            7632.627980                    0.000000   \n5        5            9268.738383                   97.319108   \n6        6            9878.624954                   12.080650   \n7        7            5090.581445                   26.596444   \n8        8            7632.627980                    0.000000   \n9        9            4714.797881                   85.967854   \n10      10            7421.938292                   88.713312   \n11      11            3624.657610                   12.086911   \n12      12            3457.205003                   77.268773   \n13      13            4714.797881                   85.967854   \n14      14            3624.657610                   12.086911   \n\n    90minimax(Damages 2105)  starr(Atmospheric Temperature 2105)  \\\n0                 19.706034                                  0.8   \n1                 13.830973                                  1.0   \n2                 20.766685                                  0.8   \n3                 22.044644                                  0.8   \n4                 12.069880                                  1.0   \n5                 13.830973                                  1.0   \n6                 13.240881                                  0.9   \n7                 14.480369                                  0.9   \n8                 12.069880                                  1.0   \n9                 13.282645                                  1.0   \n10                21.701891                                  0.8   \n11                11.973291                                  1.0   \n12                20.482026                                  0.8   \n13                13.282645                                  1.0   \n14                11.973291                                  1.0   \n\n    starr(Industrial Emission 2105)  starr(Temperature overshoot 2105)  \n0                               0.5                                0.3  \n1                               1.0                                0.8  \n2                               0.5                                0.3  \n3                               0.0                                0.2  \n4                               1.0                                0.7  \n5                               1.0                                0.8  \n6                               1.0                                0.6  \n7                               1.0                                0.5  \n8                               1.0                                0.7  \n9                               1.0                                0.8  \n10                              0.0                                0.2  \n11                              1.0                                0.8  \n12                              0.5                                0.2  \n13                              1.0                                0.8  \n14                              1.0                                0.8  ",
      "text/html": "<div>\n<style scoped>\n    .dataframe tbody tr th:only-of-type {\n        vertical-align: middle;\n    }\n\n    .dataframe tbody tr th {\n        vertical-align: top;\n    }\n\n    .dataframe thead th {\n        text-align: right;\n    }\n</style>\n<table border=\"1\" class=\"dataframe\">\n  <thead>\n    <tr style=\"text-align: right;\">\n      <th></th>\n      <th>Policy</th>\n      <th>hurwicz(Utility 2105)</th>\n      <th>minimax(Total Output 2105)</th>\n      <th>90minimax(Damages 2105)</th>\n      <th>starr(Atmospheric Temperature 2105)</th>\n      <th>starr(Industrial Emission 2105)</th>\n      <th>starr(Temperature overshoot 2105)</th>\n    </tr>\n  </thead>\n  <tbody>\n    <tr>\n      <th>0</th>\n      <td>0</td>\n      <td>4594.773593</td>\n      <td>77.271421</td>\n      <td>19.706034</td>\n      <td>0.8</td>\n      <td>0.5</td>\n      <td>0.3</td>\n    </tr>\n    <tr>\n      <th>1</th>\n      <td>1</td>\n      <td>9268.738383</td>\n      <td>97.319108</td>\n      <td>13.830973</td>\n      <td>1.0</td>\n      <td>1.0</td>\n      <td>0.8</td>\n    </tr>\n    <tr>\n      <th>2</th>\n      <td>2</td>\n      <td>6497.585923</td>\n      <td>95.241951</td>\n      <td>20.766685</td>\n      <td>0.8</td>\n      <td>0.5</td>\n      <td>0.3</td>\n    </tr>\n    <tr>\n      <th>3</th>\n      <td>3</td>\n      <td>3772.751655</td>\n      <td>91.730363</td>\n      <td>22.044644</td>\n      <td>0.8</td>\n      <td>0.0</td>\n      <td>0.2</td>\n    </tr>\n    <tr>\n      <th>4</th>\n      <td>4</td>\n      <td>7632.627980</td>\n      <td>0.000000</td>\n      <td>12.069880</td>\n      <td>1.0</td>\n      <td>1.0</td>\n      <td>0.7</td>\n    </tr>\n    <tr>\n      <th>5</th>\n      <td>5</td>\n      <td>9268.738383</td>\n      <td>97.319108</td>\n      <td>13.830973</td>\n      <td>1.0</td>\n      <td>1.0</td>\n      <td>0.8</td>\n    </tr>\n    <tr>\n      <th>6</th>\n      <td>6</td>\n      <td>9878.624954</td>\n      <td>12.080650</td>\n      <td>13.240881</td>\n      <td>0.9</td>\n      <td>1.0</td>\n      <td>0.6</td>\n    </tr>\n    <tr>\n      <th>7</th>\n      <td>7</td>\n      <td>5090.581445</td>\n      <td>26.596444</td>\n      <td>14.480369</td>\n      <td>0.9</td>\n      <td>1.0</td>\n      <td>0.5</td>\n    </tr>\n    <tr>\n      <th>8</th>\n      <td>8</td>\n      <td>7632.627980</td>\n      <td>0.000000</td>\n      <td>12.069880</td>\n      <td>1.0</td>\n      <td>1.0</td>\n      <td>0.7</td>\n    </tr>\n    <tr>\n      <th>9</th>\n      <td>9</td>\n      <td>4714.797881</td>\n      <td>85.967854</td>\n      <td>13.282645</td>\n      <td>1.0</td>\n      <td>1.0</td>\n      <td>0.8</td>\n    </tr>\n    <tr>\n      <th>10</th>\n      <td>10</td>\n      <td>7421.938292</td>\n      <td>88.713312</td>\n      <td>21.701891</td>\n      <td>0.8</td>\n      <td>0.0</td>\n      <td>0.2</td>\n    </tr>\n    <tr>\n      <th>11</th>\n      <td>11</td>\n      <td>3624.657610</td>\n      <td>12.086911</td>\n      <td>11.973291</td>\n      <td>1.0</td>\n      <td>1.0</td>\n      <td>0.8</td>\n    </tr>\n    <tr>\n      <th>12</th>\n      <td>12</td>\n      <td>3457.205003</td>\n      <td>77.268773</td>\n      <td>20.482026</td>\n      <td>0.8</td>\n      <td>0.5</td>\n      <td>0.2</td>\n    </tr>\n    <tr>\n      <th>13</th>\n      <td>13</td>\n      <td>4714.797881</td>\n      <td>85.967854</td>\n      <td>13.282645</td>\n      <td>1.0</td>\n      <td>1.0</td>\n      <td>0.8</td>\n    </tr>\n    <tr>\n      <th>14</th>\n      <td>14</td>\n      <td>3624.657610</td>\n      <td>12.086911</td>\n      <td>11.973291</td>\n      <td>1.0</td>\n      <td>1.0</td>\n      <td>0.8</td>\n    </tr>\n  </tbody>\n</table>\n</div>"
     },
     "execution_count": 8,
     "metadata": {},
     "output_type": "execute_result"
    }
   ],
   "source": [
    "robustnes_dataframe"
   ],
   "metadata": {
    "collapsed": false,
    "pycharm": {
     "name": "#%%\n"
    }
   }
  },
  {
   "cell_type": "code",
   "execution_count": 8,
   "outputs": [],
   "source": [],
   "metadata": {
    "collapsed": false,
    "pycharm": {
     "name": "#%%\n"
    }
   }
  }
 ],
 "metadata": {
  "kernelspec": {
   "name": "pycharm-2517ad8d",
   "language": "python",
   "display_name": "PyCharm (md_final)"
  },
  "language_info": {
   "codemirror_mode": {
    "name": "ipython",
    "version": 2
   },
   "file_extension": ".py",
   "mimetype": "text/x-python",
   "name": "python",
   "nbconvert_exporter": "python",
   "pygments_lexer": "ipython2",
   "version": "2.7.6"
  }
 },
 "nbformat": 4,
 "nbformat_minor": 0
}