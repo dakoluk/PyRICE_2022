{
 "cells": [
  {
   "cell_type": "markdown",
   "source": [
    "# Selected Policies\n",
    "\n",
    "This notebook is used to show the selected policies per problem formulation."
   ],
   "metadata": {
    "collapsed": false,
    "pycharm": {
     "name": "#%% md\n"
    }
   }
  },
  {
   "cell_type": "code",
   "execution_count": 1,
   "outputs": [],
   "source": [
    "import pandas as pd\n",
    "import os\n",
    "from model.enumerations import ProblemFormulation\n",
    "from dmdu.general.xlm_constants_epsilons import get_lever_names\n",
    "from dmdu.general.visualization import plot_conference_pathways\n",
    "from dmdu.general.visualization import plot_optimal_policies\n",
    "from dmdu.general.visualization import plot_optimal_policies_dict"
   ],
   "metadata": {
    "collapsed": false,
    "pycharm": {
     "name": "#%%\n"
    }
   }
  },
  {
   "cell_type": "markdown",
   "source": [
    "# Load results per problem formulation"
   ],
   "metadata": {
    "collapsed": false,
    "pycharm": {
     "name": "#%% md\n"
    }
   }
  },
  {
   "cell_type": "code",
   "execution_count": null,
   "outputs": [],
   "source": [
    "lever_names = get_lever_names()\n",
    "\n",
    "problem_formulations = [\n",
    "    ProblemFormulation.UTILITARIAN_AGGREGATED,\n",
    "    ProblemFormulation.UTILITARIAN_DISAGGREGATED,\n",
    "    ProblemFormulation.SUFFICIENTARIAN_AGGREGATED,\n",
    "    ProblemFormulation.SUFFICIENTARIAN_DISAGGREGATED\n",
    "]\n"
   ],
   "metadata": {
    "collapsed": false,
    "pycharm": {
     "name": "#%%\n"
    }
   }
  },
  {
   "cell_type": "code",
   "execution_count": null,
   "outputs": [],
   "source": [
    "# problem_formulations_dict = {}\n",
    "# for problem_formulation in problem_formulations:\n",
    "#     target_directory = os.path.join(\n",
    "#         os.path.dirname(os.getcwd()),\n",
    "#         'data',\n",
    "#         'optimalpolicies',\n",
    "#         f'optimal_policies_{problem_formulation.name}.csv'\n",
    "#     )\n",
    "#\n",
    "#     # Load policies\n",
    "#     policies_df = pd.read_csv(target_directory, index_col='Unnamed: 0')\n",
    "#     policies_df = policies_df.loc[:, lever_names]\n",
    "#     problem_formulations_dict[problem_formulation.name] = policies_df"
   ],
   "metadata": {
    "collapsed": false,
    "pycharm": {
     "name": "#%%\n"
    }
   }
  },
  {
   "cell_type": "code",
   "execution_count": null,
   "outputs": [],
   "source": [
    "# for problem_formulation, policies_df in problem_formulations_dict.items():\n",
    "#     print(problem_formulation)\n",
    "#     plot_optimal_policies(\n",
    "#         policies=policies_df,\n",
    "#         saving=True,\n",
    "#         file_name=f'optimal_policies_levers_parallel_axis_plot_{problem_formulation}'\n",
    "#     )\n"
   ],
   "metadata": {
    "collapsed": false,
    "pycharm": {
     "name": "#%%\n"
    }
   }
  },
  {
   "cell_type": "code",
   "execution_count": null,
   "outputs": [],
   "source": [
    "# plot_optimal_policies_dict(\n",
    "#     policies_dict=problem_formulations_dict,\n",
    "#     saving=True,\n",
    "#     file_name='optimal_policies_levers_parallel_axis_plot'\n",
    "# )"
   ],
   "metadata": {
    "collapsed": false,
    "pycharm": {
     "name": "#%%\n"
    }
   }
  },
  {
   "cell_type": "markdown",
   "source": [
    "## Pathways"
   ],
   "metadata": {
    "collapsed": false,
    "pycharm": {
     "name": "#%% md\n"
    }
   }
  },
  {
   "cell_type": "code",
   "execution_count": null,
   "outputs": [],
   "source": [
    "problem_formulations_dict = {}\n",
    "\n",
    "for problem_formulation in problem_formulations:\n",
    "    target_directory = os.path.join(\n",
    "        os.path.dirname(os.getcwd()),\n",
    "        'data',\n",
    "        'experimentsextensive',\n",
    "        f'results_{problem_formulation.name}'\n",
    "    )\n",
    "    experiments, outcomes = load_results(target_directory)\n",
    "    outcomes = pd.DataFrame(outcomes)\n",
    "    problem_formulations_dict[problem_formulation.name] = experiments, outcomes"
   ],
   "metadata": {
    "collapsed": false,
    "pycharm": {
     "name": "#%%\n"
    }
   }
  },
  {
   "cell_type": "code",
   "execution_count": null,
   "outputs": [],
   "source": [
    "from dmdu.general.visualization import plot_kpi_pathways\n",
    "\n",
    "plot_kpi_pathways(\n",
    "    problem_formulations_dict=problem_formulations_dict,\n",
    "    outcome_names=None,\n",
    "    saving=False,\n",
    "    file_name=None\n",
    ")"
   ],
   "metadata": {
    "collapsed": false,
    "pycharm": {
     "name": "#%%\n"
    }
   }
  }
 ],
 "metadata": {
  "kernelspec": {
   "name": "pycharm-2517ad8d",
   "language": "python",
   "display_name": "PyCharm (md_final)"
  },
  "language_info": {
   "codemirror_mode": {
    "name": "ipython",
    "version": 2
   },
   "file_extension": ".py",
   "mimetype": "text/x-python",
   "name": "python",
   "nbconvert_exporter": "python",
   "pygments_lexer": "ipython2",
   "version": "2.7.6"
  }
 },
 "nbformat": 4,
 "nbformat_minor": 0
}