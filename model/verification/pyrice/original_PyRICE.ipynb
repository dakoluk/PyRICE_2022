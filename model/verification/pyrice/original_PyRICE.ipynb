{
 "cells": [
  {
   "cell_type": "markdown",
   "metadata": {
    "collapsed": true,
    "pycharm": {
     "name": "#%% md\n"
    }
   },
   "source": [
    "# Checking results\n",
    "\n",
    "Running checks to ensure invariant model results from original PyRICE model to refactored PyRICE model.\n",
    "\n",
    "---"
   ]
  },
  {
   "cell_type": "markdown",
   "source": [
    "## Directories"
   ],
   "metadata": {
    "collapsed": false,
    "pycharm": {
     "name": "#%% md\n"
    }
   }
  },
  {
   "cell_type": "code",
   "execution_count": 1,
   "outputs": [],
   "source": [
    "import os\n",
    "\n",
    "directory = os.getcwd()\n",
    "original_pyrice_directory = directory\n",
    "highest_directory = os.path.dirname(os.path.dirname(os.getcwd()))\n",
    "model_directory = highest_directory + \"/model\"\n",
    "\n",
    "os.chdir(model_directory)"
   ],
   "metadata": {
    "collapsed": false,
    "pycharm": {
     "name": "#%%\n"
    }
   }
  },
  {
   "cell_type": "markdown",
   "source": [
    "## Imports"
   ],
   "metadata": {
    "collapsed": false,
    "pycharm": {
     "name": "#%% md\n"
    }
   }
  },
  {
   "cell_type": "code",
   "execution_count": 2,
   "outputs": [],
   "source": [
    "from verification.pyrice.check import *"
   ],
   "metadata": {
    "collapsed": false,
    "pycharm": {
     "name": "#%%\n"
    }
   }
  },
  {
   "cell_type": "markdown",
   "source": [
    "---\n",
    "## Test Execution\n",
    "Running several tests below."
   ],
   "metadata": {
    "collapsed": false,
    "pycharm": {
     "name": "#%% md\n"
    }
   }
  },
  {
   "cell_type": "markdown",
   "source": [
    "---\n",
    "## Quick Test\n",
    "Considering combinations of\n",
    "- 3x model specifications\n",
    "- 4x social welfare functions\n",
    "- 3x damage functions\n",
    "\n",
    "Thus, 36 runs have to be executed!"
   ],
   "metadata": {
    "collapsed": false,
    "pycharm": {
     "name": "#%% md\n"
    }
   }
  },
  {
   "cell_type": "code",
   "execution_count": 3,
   "outputs": [
    {
     "name": "stdout",
     "output_type": "stream",
     "text": [
      "Run #3/36\n",
      "Run #6/36\n",
      "Run #9/36\n",
      "Run #12/36\n",
      "Run #15/36\n",
      "Run #18/36\n",
      "Run #21/36\n",
      "Run #24/36\n",
      "Run #27/36\n",
      "Run #30/36\n",
      "Run #33/36\n",
      "Run #36/36\n",
      "\n",
      "Run time: 28.71 seconds\n",
      "\n",
      "Original and new results are identical: True\n",
      "\n",
      "####################################################################################\n",
      "####################################################################################\n",
      "####################################################################################\n",
      "################################# GOOD JOB! :D #####################################\n",
      "####################################################################################\n",
      "####################################################################################\n",
      "####################################################################################\n"
     ]
    }
   ],
   "source": [
    "check = Check(quick=True)\n",
    "check()"
   ],
   "metadata": {
    "collapsed": false,
    "pycharm": {
     "name": "#%%\n"
    }
   }
  },
  {
   "cell_type": "markdown",
   "source": [
    "---\n",
    "## Slow Test\n",
    "\n",
    "Considering combinations of\n",
    "- 3x model specifications\n",
    "- 4x social welfare functions\n",
    "- 3x damage functions\n",
    "- 2x savings rates\n",
    "- 2x initial rate of social time preference\n",
    "- 2x emission control rates\n",
    "\n",
    "Thus, 288 runs have to be executed!"
   ],
   "metadata": {
    "collapsed": false,
    "pycharm": {
     "name": "#%% md\n"
    }
   }
  },
  {
   "cell_type": "code",
   "execution_count": 4,
   "outputs": [
    {
     "ename": "KeyboardInterrupt",
     "evalue": "",
     "output_type": "error",
     "traceback": [
      "\u001B[0;31m---------------------------------------------------------------------------\u001B[0m",
      "\u001B[0;31mKeyboardInterrupt\u001B[0m                         Traceback (most recent call last)",
      "\u001B[0;32m<ipython-input-4-a0dd48eaa980>\u001B[0m in \u001B[0;36m<module>\u001B[0;34m\u001B[0m\n\u001B[1;32m      1\u001B[0m \u001B[0mcheck\u001B[0m \u001B[0;34m=\u001B[0m \u001B[0mCheck\u001B[0m\u001B[0;34m(\u001B[0m\u001B[0mquick\u001B[0m\u001B[0;34m=\u001B[0m\u001B[0;32mFalse\u001B[0m\u001B[0;34m)\u001B[0m\u001B[0;34m\u001B[0m\u001B[0;34m\u001B[0m\u001B[0m\n\u001B[0;32m----> 2\u001B[0;31m \u001B[0mcheck\u001B[0m\u001B[0;34m(\u001B[0m\u001B[0;34m)\u001B[0m\u001B[0;34m\u001B[0m\u001B[0;34m\u001B[0m\u001B[0m\n\u001B[0m",
      "\u001B[0;32m~/PycharmProjects/PyRICE/verification/pyrice/check.py\u001B[0m in \u001B[0;36m__call__\u001B[0;34m(self)\u001B[0m\n\u001B[1;32m    125\u001B[0m         \u001B[0mmodifier\u001B[0m \u001B[0;34m=\u001B[0m \u001B[0;34m'_quick'\u001B[0m \u001B[0;32mif\u001B[0m \u001B[0mself\u001B[0m\u001B[0;34m.\u001B[0m\u001B[0mquick\u001B[0m \u001B[0;32melse\u001B[0m \u001B[0;34m'_slow'\u001B[0m\u001B[0;34m\u001B[0m\u001B[0;34m\u001B[0m\u001B[0m\n\u001B[1;32m    126\u001B[0m         \u001B[0moriginal_data\u001B[0m \u001B[0;34m=\u001B[0m \u001B[0mself\u001B[0m\u001B[0;34m.\u001B[0m\u001B[0mload_my_pickle\u001B[0m\u001B[0;34m(\u001B[0m\u001B[0mfile\u001B[0m\u001B[0;34m=\u001B[0m\u001B[0;34mf'original_data{modifier}'\u001B[0m\u001B[0;34m)\u001B[0m\u001B[0;34m\u001B[0m\u001B[0;34m\u001B[0m\u001B[0m\n\u001B[0;32m--> 127\u001B[0;31m         \u001B[0mnew_data\u001B[0m \u001B[0;34m=\u001B[0m \u001B[0mself\u001B[0m\u001B[0;34m.\u001B[0m\u001B[0mrun_models\u001B[0m\u001B[0;34m(\u001B[0m\u001B[0;34m)\u001B[0m\u001B[0;34m\u001B[0m\u001B[0;34m\u001B[0m\u001B[0m\n\u001B[0m\u001B[1;32m    128\u001B[0m \u001B[0;34m\u001B[0m\u001B[0m\n\u001B[1;32m    129\u001B[0m         \u001B[0mrun_time\u001B[0m \u001B[0;34m=\u001B[0m \u001B[0mround\u001B[0m\u001B[0;34m(\u001B[0m\u001B[0mtime\u001B[0m\u001B[0;34m.\u001B[0m\u001B[0mtime\u001B[0m\u001B[0;34m(\u001B[0m\u001B[0;34m)\u001B[0m \u001B[0;34m-\u001B[0m \u001B[0mself\u001B[0m\u001B[0;34m.\u001B[0m\u001B[0mstart_time\u001B[0m\u001B[0;34m,\u001B[0m \u001B[0;36m2\u001B[0m\u001B[0;34m)\u001B[0m\u001B[0;34m\u001B[0m\u001B[0;34m\u001B[0m\u001B[0m\n",
      "\u001B[0;32m~/PycharmProjects/PyRICE/verification/pyrice/check.py\u001B[0m in \u001B[0;36mrun_models\u001B[0;34m(self)\u001B[0m\n\u001B[1;32m     77\u001B[0m \u001B[0;34m\u001B[0m\u001B[0m\n\u001B[1;32m     78\u001B[0m                                 \u001B[0mm\u001B[0m \u001B[0;34m=\u001B[0m \u001B[0mPyRICE\u001B[0m\u001B[0;34m(\u001B[0m\u001B[0mmodel_specification\u001B[0m\u001B[0;34m=\u001B[0m\u001B[0mspec\u001B[0m\u001B[0;34m,\u001B[0m \u001B[0mdamage_function\u001B[0m\u001B[0;34m=\u001B[0m\u001B[0mdamage\u001B[0m\u001B[0;34m,\u001B[0m \u001B[0mwelfare_function\u001B[0m\u001B[0;34m=\u001B[0m\u001B[0mwelfare\u001B[0m\u001B[0;34m)\u001B[0m\u001B[0;34m\u001B[0m\u001B[0;34m\u001B[0m\u001B[0m\n\u001B[0;32m---> 79\u001B[0;31m                                 \u001B[0mresults\u001B[0m \u001B[0;34m=\u001B[0m \u001B[0mm\u001B[0m\u001B[0;34m(\u001B[0m\u001B[0msr\u001B[0m\u001B[0;34m=\u001B[0m\u001B[0msr\u001B[0m\u001B[0;34m,\u001B[0m \u001B[0mmiu\u001B[0m\u001B[0;34m=\u001B[0m\u001B[0mmiu\u001B[0m\u001B[0;34m,\u001B[0m \u001B[0mirstp_consumption\u001B[0m\u001B[0;34m=\u001B[0m\u001B[0mirstp\u001B[0m\u001B[0;34m)\u001B[0m\u001B[0;34m\u001B[0m\u001B[0;34m\u001B[0m\u001B[0m\n\u001B[0m\u001B[1;32m     80\u001B[0m \u001B[0;34m\u001B[0m\u001B[0m\n\u001B[1;32m     81\u001B[0m                                 \u001B[0mself\u001B[0m\u001B[0;34m.\u001B[0m\u001B[0mdicts\u001B[0m\u001B[0;34m.\u001B[0m\u001B[0mappend\u001B[0m\u001B[0;34m(\u001B[0m\u001B[0mresults\u001B[0m\u001B[0;34m)\u001B[0m\u001B[0;34m\u001B[0m\u001B[0;34m\u001B[0m\u001B[0m\n",
      "\u001B[0;32m~/PycharmProjects/PyRICE/model/pyrice.py\u001B[0m in \u001B[0;36m__call__\u001B[0;34m(self, growth_factor_prio, prioritarian_discounting, sufficientarian_discounting, growth_factor_suf, ini_suf_threshold, egalitarian_discounting, t2xco2_index, t2xco2_dist, fosslim, damage_function, scenario_pop_gdp, scenario_sigma, scenario_cback, scenario_elasticity_of_damages, scenario_limmiu, longrun_scenario, long_run_nordhaus_tfp_gr, long_run_nordhaus_sigma, long_run_nordhaus_pop_gr, sr, miu, irstp_consumption, irstp_damage, tau, precision, **kwargs)\u001B[0m\n\u001B[1;32m    208\u001B[0m             \u001B[0mCPC_post_damage\u001B[0m \u001B[0;34m=\u001B[0m \u001B[0mself\u001B[0m\u001B[0;34m.\u001B[0m\u001B[0mecon_model\u001B[0m\u001B[0;34m.\u001B[0m\u001B[0mget_cpc_post_damage\u001B[0m\u001B[0;34m(\u001B[0m\u001B[0;34m)\u001B[0m\u001B[0;34m\u001B[0m\u001B[0;34m\u001B[0m\u001B[0m\n\u001B[1;32m    209\u001B[0m \u001B[0;34m\u001B[0m\u001B[0m\n\u001B[0;32m--> 210\u001B[0;31m             self.CPC, self.CPC_post_damage = self.utility_model.run(\n\u001B[0m\u001B[1;32m    211\u001B[0m                 \u001B[0mt\u001B[0m\u001B[0;34m,\u001B[0m \u001B[0mself\u001B[0m\u001B[0;34m.\u001B[0m\u001B[0myear\u001B[0m\u001B[0;34m,\u001B[0m \u001B[0mself\u001B[0m\u001B[0;34m.\u001B[0m\u001B[0mirstp_consumption\u001B[0m\u001B[0;34m,\u001B[0m \u001B[0mself\u001B[0m\u001B[0;34m.\u001B[0m\u001B[0mirstp_damage\u001B[0m\u001B[0;34m,\u001B[0m \u001B[0mself\u001B[0m\u001B[0;34m.\u001B[0m\u001B[0mtstep\u001B[0m\u001B[0;34m,\u001B[0m \u001B[0mgrowth_factor_prio\u001B[0m\u001B[0;34m,\u001B[0m \u001B[0mgrowth_factor_suf\u001B[0m\u001B[0;34m,\u001B[0m\u001B[0;34m\u001B[0m\u001B[0;34m\u001B[0m\u001B[0m\n\u001B[1;32m    212\u001B[0m                 \u001B[0msufficientarian_discounting\u001B[0m\u001B[0;34m,\u001B[0m \u001B[0megalitarian_discounting\u001B[0m\u001B[0;34m,\u001B[0m \u001B[0mprioritarian_discounting\u001B[0m\u001B[0;34m,\u001B[0m\u001B[0;34m\u001B[0m\u001B[0;34m\u001B[0m\u001B[0m\n",
      "\u001B[0;32m~/PycharmProjects/PyRICE/model/submodels/utility_model.py\u001B[0m in \u001B[0;36mrun\u001B[0;34m(self, t, year, irstp_consumption, irstp_damage, tstep, growth_factor_prio, growth_factor_suf, sufficientarian_discounting, egalitarian_discounting, prioritarian_discounting, CPC, region_pop, damages, Y, CPC_lo, climate_impact_relative_to_capita, CPC_post_damage, tau)\u001B[0m\n\u001B[1;32m    267\u001B[0m         \u001B[0;32mif\u001B[0m \u001B[0mself\u001B[0m\u001B[0;34m.\u001B[0m\u001B[0mwelfare_function\u001B[0m \u001B[0;34m==\u001B[0m \u001B[0mWelfareFunction\u001B[0m\u001B[0;34m.\u001B[0m\u001B[0mUTILITARIAN\u001B[0m\u001B[0;34m:\u001B[0m\u001B[0;34m\u001B[0m\u001B[0;34m\u001B[0m\u001B[0m\n\u001B[1;32m    268\u001B[0m \u001B[0;34m\u001B[0m\u001B[0m\n\u001B[0;32m--> 269\u001B[0;31m             self.run_utilitarian(t, year, irstp_consumption, tstep, CPC, damages, Y, CPC_lo,\n\u001B[0m\u001B[1;32m    270\u001B[0m                                  climate_impact_relative_to_capita, CPC_post_damage)\n\u001B[1;32m    271\u001B[0m \u001B[0;34m\u001B[0m\u001B[0m\n",
      "\u001B[0;32m~/PycharmProjects/PyRICE/model/submodels/utility_model.py\u001B[0m in \u001B[0;36mrun_utilitarian\u001B[0;34m(self, t, year, irstp_consumption, tstep, CPC, damages, Y, CPC_lo, climate_impact_relative_to_capita, CPC_post_damage)\u001B[0m\n\u001B[1;32m    312\u001B[0m         \u001B[0mself\u001B[0m\u001B[0;34m.\u001B[0m\u001B[0mregional_cum_util\u001B[0m\u001B[0;34m[\u001B[0m\u001B[0mt\u001B[0m\u001B[0;34m]\u001B[0m \u001B[0;34m=\u001B[0m \u001B[0mself\u001B[0m\u001B[0;34m.\u001B[0m\u001B[0mreg_cum_util\u001B[0m\u001B[0;34m[\u001B[0m\u001B[0;34m:\u001B[0m\u001B[0;34m,\u001B[0m \u001B[0mt\u001B[0m\u001B[0;34m]\u001B[0m\u001B[0;34m.\u001B[0m\u001B[0msum\u001B[0m\u001B[0;34m(\u001B[0m\u001B[0;34m)\u001B[0m\u001B[0;34m\u001B[0m\u001B[0;34m\u001B[0m\u001B[0m\n\u001B[1;32m    313\u001B[0m \u001B[0;34m\u001B[0m\u001B[0m\n\u001B[0;32m--> 314\u001B[0;31m         self.calculate_alternative_principles_objectives(\n\u001B[0m\u001B[1;32m    315\u001B[0m             \u001B[0mt\u001B[0m\u001B[0;34m,\u001B[0m \u001B[0myear\u001B[0m\u001B[0;34m,\u001B[0m \u001B[0mCPC\u001B[0m\u001B[0;34m,\u001B[0m \u001B[0mdamages\u001B[0m\u001B[0;34m,\u001B[0m \u001B[0mCPC_post_damage\u001B[0m\u001B[0;34m,\u001B[0m \u001B[0mCPC_lo\u001B[0m\u001B[0;34m,\u001B[0m \u001B[0mclimate_impact_relative_to_capita\u001B[0m\u001B[0;34m,\u001B[0m \u001B[0mY\u001B[0m\u001B[0;34m\u001B[0m\u001B[0;34m\u001B[0m\u001B[0m\n\u001B[1;32m    316\u001B[0m         )\n",
      "\u001B[0;32m~/PycharmProjects/PyRICE/model/submodels/utility_model.py\u001B[0m in \u001B[0;36mcalculate_alternative_principles_objectives\u001B[0;34m(self, t, year, CPC, damages, CPC_post_damage, CPC_lo, climate_impact_relative_to_capita, Y)\u001B[0m\n\u001B[1;32m    739\u001B[0m \u001B[0;34m\u001B[0m\u001B[0m\n\u001B[1;32m    740\u001B[0m         \u001B[0;31m# calculate instantaneous welfare equivalent of threshold\u001B[0m\u001B[0;34m\u001B[0m\u001B[0;34m\u001B[0m\u001B[0;34m\u001B[0m\u001B[0m\n\u001B[0;32m--> 741\u001B[0;31m         \u001B[0mself\u001B[0m\u001B[0;34m.\u001B[0m\u001B[0minst_util_tres_ww\u001B[0m\u001B[0;34m[\u001B[0m\u001B[0;34m:\u001B[0m\u001B[0;34m,\u001B[0m \u001B[0mt\u001B[0m\u001B[0;34m]\u001B[0m \u001B[0;34m=\u001B[0m \u001B[0mself\u001B[0m\u001B[0;34m.\u001B[0m\u001B[0minst_util_tres\u001B[0m\u001B[0;34m[\u001B[0m\u001B[0mt\u001B[0m\u001B[0;34m]\u001B[0m \u001B[0;34m*\u001B[0m \u001B[0mself\u001B[0m\u001B[0;34m.\u001B[0m\u001B[0mAlpha_data\u001B[0m\u001B[0;34m[\u001B[0m\u001B[0;34m:\u001B[0m\u001B[0;34m,\u001B[0m \u001B[0mt\u001B[0m\u001B[0;34m]\u001B[0m\u001B[0;34m\u001B[0m\u001B[0;34m\u001B[0m\u001B[0m\n\u001B[0m\u001B[1;32m    742\u001B[0m \u001B[0;34m\u001B[0m\u001B[0m\n\u001B[1;32m    743\u001B[0m         \u001B[0;31m# calculate utility equivalent for every income quintile and scale with welfare weights for comparison\u001B[0m\u001B[0;34m\u001B[0m\u001B[0;34m\u001B[0m\u001B[0;34m\u001B[0m\u001B[0m\n",
      "\u001B[0;31mKeyboardInterrupt\u001B[0m: "
     ]
    }
   ],
   "source": [
    "check = Check(quick=False)\n",
    "check()"
   ],
   "metadata": {
    "collapsed": false,
    "pycharm": {
     "name": "#%%\n"
    }
   }
  }
 ],
 "metadata": {
  "kernelspec": {
   "name": "pycharm-2517ad8d",
   "language": "python",
   "display_name": "PyCharm (md_final)"
  },
  "language_info": {
   "codemirror_mode": {
    "name": "ipython",
    "version": 2
   },
   "file_extension": ".py",
   "mimetype": "text/x-python",
   "name": "python",
   "nbconvert_exporter": "python",
   "pygments_lexer": "ipython2",
   "version": "2.7.6"
  }
 },
 "nbformat": 4,
 "nbformat_minor": 0
}