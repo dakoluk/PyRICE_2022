{
 "cells": [
  {
   "cell_type": "markdown",
   "source": [
    "# Open Exploration"
   ],
   "metadata": {
    "collapsed": false,
    "pycharm": {
     "name": "#%% md\n"
    }
   }
  },
  {
   "cell_type": "code",
   "execution_count": 1,
   "metadata": {
    "collapsed": true
   },
   "outputs": [
    {
     "data": {
      "text/plain": "<Logger EMA (DEBUG)>"
     },
     "execution_count": 1,
     "metadata": {},
     "output_type": "execute_result"
    }
   ],
   "source": [
    "from model.pyrice import PyRICE\n",
    "from model.enumerations import *\n",
    "from optimization.outcomes_and_epsilons import get_outcomes_and_epsilons\n",
    "\n",
    "from ema_workbench import (Model, RealParameter, IntegerParameter, MultiprocessingEvaluator, ema_logging)\n",
    "ema_logging.log_to_stderr(ema_logging.INFO)\n"
   ]
  },
  {
   "cell_type": "markdown",
   "source": [
    "## Parameters"
   ],
   "metadata": {
    "collapsed": false,
    "pycharm": {
     "name": "#%% md\n"
    }
   }
  },
  {
   "cell_type": "code",
   "execution_count": 2,
   "outputs": [],
   "source": [
    "# Instantiate the model\n",
    "model_specification = ModelSpec.STANDARD\n",
    "damage_function = DamageFunction.NORDHAUS\n",
    "welfare_function = WelfareFunction.UTILITARIAN\n",
    "\n",
    "model = PyRICE(model_specification=model_specification,\n",
    "               damage_function=damage_function,\n",
    "               welfare_function=welfare_function)\n",
    "\n",
    "model = Model('RICE', function=model)\n",
    "\n",
    "# Specify uncertainties\n",
    "model.uncertainties = [IntegerParameter('t2xco2_index', 0, 999),\n",
    "                       IntegerParameter('t2xco2_dist', 0, 2),\n",
    "                       RealParameter('fosslim', 4000, 13649),\n",
    "                       IntegerParameter('scenario_pop_gdp', 0, 5),\n",
    "                       IntegerParameter('scenario_sigma', 0, 2),\n",
    "                       IntegerParameter('scenario_cback', 0, 1),\n",
    "                       IntegerParameter('scenario_elasticity_of_damages', 0, 2),\n",
    "                       IntegerParameter('scenario_limmiu', 0, 1)]\n",
    "\n",
    "# Set levers, one for each time step\n",
    "model.levers = [RealParameter('sr', 0.1, 0.5),\n",
    "                RealParameter('miu', 2065, 2300),\n",
    "                RealParameter('irstp', 0.001, 0.015)]\n",
    "\n",
    "# Specify outcomes\n",
    "model.outcomes, _ = get_outcomes_and_epsilons(welfare_function=welfare_function)\n"
   ],
   "metadata": {
    "collapsed": false,
    "pycharm": {
     "name": "#%%\n"
    }
   }
  },
  {
   "cell_type": "markdown",
   "source": [
    "## Model Run"
   ],
   "metadata": {
    "collapsed": false,
    "pycharm": {
     "name": "#%% md\n"
    }
   }
  },
  {
   "cell_type": "code",
   "execution_count": 3,
   "outputs": [
    {
     "name": "stderr",
     "output_type": "stream",
     "text": [
      "[MainProcess/INFO] pool started\n",
      "[MainProcess/INFO] performing 10 scenarios * 10 policies * 1 model(s) = 100 experiments\n",
      "[MainProcess/INFO] 10 cases completed\n",
      "[MainProcess/INFO] 20 cases completed\n",
      "[MainProcess/INFO] 30 cases completed\n",
      "[MainProcess/INFO] 40 cases completed\n",
      "[MainProcess/INFO] 50 cases completed\n",
      "[MainProcess/INFO] 60 cases completed\n",
      "[MainProcess/INFO] 70 cases completed\n",
      "[MainProcess/INFO] 80 cases completed\n",
      "[MainProcess/INFO] 90 cases completed\n",
      "[MainProcess/INFO] 100 cases completed\n",
      "[MainProcess/INFO] experiments finished\n",
      "[MainProcess/INFO] terminating pool\n"
     ]
    }
   ],
   "source": [
    "with MultiprocessingEvaluator(model, n_processes=50) as evaluator:\n",
    "    results = evaluator.perform_experiments(scenarios=10, policies=10)"
   ],
   "metadata": {
    "collapsed": false,
    "pycharm": {
     "name": "#%%\n"
    }
   }
  },
  {
   "cell_type": "code",
   "execution_count": 3,
   "outputs": [],
   "source": [],
   "metadata": {
    "collapsed": false,
    "pycharm": {
     "name": "#%%\n"
    }
   }
  }
 ],
 "metadata": {
  "kernelspec": {
   "name": "pycharm-2517ad8d",
   "language": "python",
   "display_name": "PyCharm (md_final)"
  },
  "language_info": {
   "codemirror_mode": {
    "name": "ipython",
    "version": 2
   },
   "file_extension": ".py",
   "mimetype": "text/x-python",
   "name": "python",
   "nbconvert_exporter": "python",
   "pygments_lexer": "ipython2",
   "version": "2.7.6"
  }
 },
 "nbformat": 4,
 "nbformat_minor": 0
}