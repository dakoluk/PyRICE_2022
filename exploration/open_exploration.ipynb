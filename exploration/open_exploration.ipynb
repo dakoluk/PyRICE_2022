{
 "cells": [
  {
   "cell_type": "markdown",
   "source": [
    "# Open Exploration"
   ],
   "metadata": {
    "collapsed": false,
    "pycharm": {
     "name": "#%% md\n"
    }
   }
  },
  {
   "cell_type": "code",
   "execution_count": 1,
   "metadata": {
    "collapsed": true
   },
   "outputs": [],
   "source": [
    "from model.pyrice import PyRICE\n",
    "from model.enumerations import *\n",
    "from optimization.outcomes_and_epsilons import get_outcomes_and_epsilons\n",
    "\n",
    "from ema_workbench import (Model, RealParameter, IntegerParameter, ScalarOutcome, MultiprocessingEvaluator, ema_logging)\n",
    "ema_logging.log_to_stderr(ema_logging.INFO)\n",
    "from ema_workbench.util.utilities import save_results"
   ]
  },
  {
   "cell_type": "markdown",
   "source": [
    "## Parameters"
   ],
   "metadata": {
    "collapsed": false,
    "pycharm": {
     "name": "#%% md\n"
    }
   }
  },
  {
   "cell_type": "code",
   "execution_count": 2,
   "outputs": [],
   "source": [
    "# Instantiate the model\n",
    "model_specification = ModelSpec.STANDARD\n",
    "damage_function = DamageFunction.NORDHAUS\n",
    "welfare_function = WelfareFunction.UTILITARIAN\n",
    "\n",
    "model = PyRICE(model_specification=model_specification,\n",
    "               damage_function=damage_function,\n",
    "               welfare_function=welfare_function)\n",
    "\n",
    "model = Model('RICE', function=model)\n",
    "\n",
    "# Specify uncertainties\n",
    "model.uncertainties = [IntegerParameter('t2xco2_index', 0, 999),\n",
    "                       IntegerParameter('t2xco2_dist', 0, 2),\n",
    "                       RealParameter('fosslim', 4000, 13649),\n",
    "                       IntegerParameter('scenario_pop_gdp', 0, 5),\n",
    "                       IntegerParameter('scenario_sigma', 0, 2),\n",
    "                       IntegerParameter('scenario_cback', 0, 1),\n",
    "                       IntegerParameter('scenario_elasticity_of_damages', 0, 2),\n",
    "                       IntegerParameter('scenario_limmiu', 0, 1)]\n",
    "\n",
    "# Set levers, one for each time step\n",
    "model.levers = [RealParameter('sr', 0.1, 0.5),\n",
    "                RealParameter('miu', 2065, 2300),\n",
    "                RealParameter('irstp_consumption', 0.001, 0.015)\n",
    "                ]\n",
    "\n",
    "model.outcomes = [\n",
    "    ScalarOutcome('')\n",
    "]"
   ],
   "metadata": {
    "collapsed": false,
    "pycharm": {
     "name": "#%%\n"
    }
   }
  },
  {
   "cell_type": "markdown",
   "source": [
    "## Run Experiments"
   ],
   "metadata": {
    "collapsed": false,
    "pycharm": {
     "name": "#%% md\n"
    }
   }
  },
  {
   "cell_type": "code",
   "execution_count": 3,
   "outputs": [
    {
     "name": "stderr",
     "output_type": "stream",
     "text": [
      "[MainProcess/INFO] pool started\n",
      "[MainProcess/INFO] performing 10 scenarios * 10 policies * 1 model(s) = 100 experiments\n",
      "[MainProcess/INFO] 10 cases completed\n",
      "[MainProcess/INFO] 20 cases completed\n",
      "[MainProcess/INFO] 30 cases completed\n",
      "[MainProcess/INFO] 40 cases completed\n",
      "[MainProcess/INFO] 50 cases completed\n",
      "[MainProcess/INFO] 60 cases completed\n",
      "[MainProcess/INFO] 70 cases completed\n",
      "[MainProcess/INFO] 80 cases completed\n",
      "[MainProcess/INFO] 90 cases completed\n",
      "[MainProcess/INFO] 100 cases completed\n",
      "[MainProcess/INFO] experiments finished\n",
      "[MainProcess/INFO] results saved successfully to /Users/reddel/PycharmProjects/PyRICE/model/test_results\n",
      "[MainProcess/INFO] terminating pool\n"
     ]
    }
   ],
   "source": [
    "with MultiprocessingEvaluator(model, n_processes=50) as evaluator:\n",
    "    results = evaluator.perform_experiments(scenarios=10, policies=10)\n",
    "    save_results(results=results, file_name='test_results')"
   ],
   "metadata": {
    "collapsed": false,
    "pycharm": {
     "name": "#%%\n"
    }
   }
  },
  {
   "cell_type": "code",
   "execution_count": 7,
   "outputs": [],
   "source": [
    "experiments, outcomes = results"
   ],
   "metadata": {
    "collapsed": false,
    "pycharm": {
     "name": "#%%\n"
    }
   }
  },
  {
   "cell_type": "code",
   "execution_count": 8,
   "outputs": [
    {
     "data": {
      "text/plain": "         fosslim  scenario_cback  scenario_elasticity_of_damages  \\\n0   11864.965688             1.0                             0.0   \n1    5382.947852             1.0                             0.0   \n2   13604.057445             0.0                             1.0   \n3    4084.461750             0.0                             2.0   \n4    7870.299492             1.0                             1.0   \n..           ...             ...                             ...   \n95  11050.823684             0.0                             0.0   \n96   7784.755749             1.0                             1.0   \n97   9386.646231             0.0                             0.0   \n98  10650.128423             0.0                             2.0   \n99   6591.047435             1.0                             2.0   \n\n    scenario_limmiu  scenario_pop_gdp  scenario_sigma  t2xco2_dist  \\\n0               1.0               0.0             0.0          0.0   \n1               1.0               2.0             1.0          1.0   \n2               0.0               3.0             2.0          2.0   \n3               0.0               4.0             2.0          2.0   \n4               0.0               5.0             1.0          0.0   \n..              ...               ...             ...          ...   \n95              1.0               2.0             1.0          2.0   \n96              0.0               1.0             0.0          1.0   \n97              0.0               0.0             0.0          2.0   \n98              1.0               5.0             1.0          0.0   \n99              1.0               4.0             2.0          1.0   \n\n    t2xco2_index  irstp_consumption          miu        sr scenario policy  \\\n0          627.0           0.008881  2189.077619  0.104956        0      0   \n1          421.0           0.008881  2189.077619  0.104956        1      0   \n2            2.0           0.008881  2189.077619  0.104956        2      0   \n3          902.0           0.008881  2189.077619  0.104956        3      0   \n4          759.0           0.008881  2189.077619  0.104956        4      0   \n..           ...                ...          ...       ...      ...    ...   \n95         209.0           0.006219  2174.649163  0.319287        5      9   \n96         346.0           0.006219  2174.649163  0.319287        6      9   \n97         855.0           0.006219  2174.649163  0.319287        7      9   \n98         118.0           0.006219  2174.649163  0.319287        8      9   \n99         573.0           0.006219  2174.649163  0.319287        9      9   \n\n   model  \n0   RICE  \n1   RICE  \n2   RICE  \n3   RICE  \n4   RICE  \n..   ...  \n95  RICE  \n96  RICE  \n97  RICE  \n98  RICE  \n99  RICE  \n\n[100 rows x 14 columns]",
      "text/html": "<div>\n<style scoped>\n    .dataframe tbody tr th:only-of-type {\n        vertical-align: middle;\n    }\n\n    .dataframe tbody tr th {\n        vertical-align: top;\n    }\n\n    .dataframe thead th {\n        text-align: right;\n    }\n</style>\n<table border=\"1\" class=\"dataframe\">\n  <thead>\n    <tr style=\"text-align: right;\">\n      <th></th>\n      <th>fosslim</th>\n      <th>scenario_cback</th>\n      <th>scenario_elasticity_of_damages</th>\n      <th>scenario_limmiu</th>\n      <th>scenario_pop_gdp</th>\n      <th>scenario_sigma</th>\n      <th>t2xco2_dist</th>\n      <th>t2xco2_index</th>\n      <th>irstp_consumption</th>\n      <th>miu</th>\n      <th>sr</th>\n      <th>scenario</th>\n      <th>policy</th>\n      <th>model</th>\n    </tr>\n  </thead>\n  <tbody>\n    <tr>\n      <th>0</th>\n      <td>11864.965688</td>\n      <td>1.0</td>\n      <td>0.0</td>\n      <td>1.0</td>\n      <td>0.0</td>\n      <td>0.0</td>\n      <td>0.0</td>\n      <td>627.0</td>\n      <td>0.008881</td>\n      <td>2189.077619</td>\n      <td>0.104956</td>\n      <td>0</td>\n      <td>0</td>\n      <td>RICE</td>\n    </tr>\n    <tr>\n      <th>1</th>\n      <td>5382.947852</td>\n      <td>1.0</td>\n      <td>0.0</td>\n      <td>1.0</td>\n      <td>2.0</td>\n      <td>1.0</td>\n      <td>1.0</td>\n      <td>421.0</td>\n      <td>0.008881</td>\n      <td>2189.077619</td>\n      <td>0.104956</td>\n      <td>1</td>\n      <td>0</td>\n      <td>RICE</td>\n    </tr>\n    <tr>\n      <th>2</th>\n      <td>13604.057445</td>\n      <td>0.0</td>\n      <td>1.0</td>\n      <td>0.0</td>\n      <td>3.0</td>\n      <td>2.0</td>\n      <td>2.0</td>\n      <td>2.0</td>\n      <td>0.008881</td>\n      <td>2189.077619</td>\n      <td>0.104956</td>\n      <td>2</td>\n      <td>0</td>\n      <td>RICE</td>\n    </tr>\n    <tr>\n      <th>3</th>\n      <td>4084.461750</td>\n      <td>0.0</td>\n      <td>2.0</td>\n      <td>0.0</td>\n      <td>4.0</td>\n      <td>2.0</td>\n      <td>2.0</td>\n      <td>902.0</td>\n      <td>0.008881</td>\n      <td>2189.077619</td>\n      <td>0.104956</td>\n      <td>3</td>\n      <td>0</td>\n      <td>RICE</td>\n    </tr>\n    <tr>\n      <th>4</th>\n      <td>7870.299492</td>\n      <td>1.0</td>\n      <td>1.0</td>\n      <td>0.0</td>\n      <td>5.0</td>\n      <td>1.0</td>\n      <td>0.0</td>\n      <td>759.0</td>\n      <td>0.008881</td>\n      <td>2189.077619</td>\n      <td>0.104956</td>\n      <td>4</td>\n      <td>0</td>\n      <td>RICE</td>\n    </tr>\n    <tr>\n      <th>...</th>\n      <td>...</td>\n      <td>...</td>\n      <td>...</td>\n      <td>...</td>\n      <td>...</td>\n      <td>...</td>\n      <td>...</td>\n      <td>...</td>\n      <td>...</td>\n      <td>...</td>\n      <td>...</td>\n      <td>...</td>\n      <td>...</td>\n      <td>...</td>\n    </tr>\n    <tr>\n      <th>95</th>\n      <td>11050.823684</td>\n      <td>0.0</td>\n      <td>0.0</td>\n      <td>1.0</td>\n      <td>2.0</td>\n      <td>1.0</td>\n      <td>2.0</td>\n      <td>209.0</td>\n      <td>0.006219</td>\n      <td>2174.649163</td>\n      <td>0.319287</td>\n      <td>5</td>\n      <td>9</td>\n      <td>RICE</td>\n    </tr>\n    <tr>\n      <th>96</th>\n      <td>7784.755749</td>\n      <td>1.0</td>\n      <td>1.0</td>\n      <td>0.0</td>\n      <td>1.0</td>\n      <td>0.0</td>\n      <td>1.0</td>\n      <td>346.0</td>\n      <td>0.006219</td>\n      <td>2174.649163</td>\n      <td>0.319287</td>\n      <td>6</td>\n      <td>9</td>\n      <td>RICE</td>\n    </tr>\n    <tr>\n      <th>97</th>\n      <td>9386.646231</td>\n      <td>0.0</td>\n      <td>0.0</td>\n      <td>0.0</td>\n      <td>0.0</td>\n      <td>0.0</td>\n      <td>2.0</td>\n      <td>855.0</td>\n      <td>0.006219</td>\n      <td>2174.649163</td>\n      <td>0.319287</td>\n      <td>7</td>\n      <td>9</td>\n      <td>RICE</td>\n    </tr>\n    <tr>\n      <th>98</th>\n      <td>10650.128423</td>\n      <td>0.0</td>\n      <td>2.0</td>\n      <td>1.0</td>\n      <td>5.0</td>\n      <td>1.0</td>\n      <td>0.0</td>\n      <td>118.0</td>\n      <td>0.006219</td>\n      <td>2174.649163</td>\n      <td>0.319287</td>\n      <td>8</td>\n      <td>9</td>\n      <td>RICE</td>\n    </tr>\n    <tr>\n      <th>99</th>\n      <td>6591.047435</td>\n      <td>1.0</td>\n      <td>2.0</td>\n      <td>1.0</td>\n      <td>4.0</td>\n      <td>2.0</td>\n      <td>1.0</td>\n      <td>573.0</td>\n      <td>0.006219</td>\n      <td>2174.649163</td>\n      <td>0.319287</td>\n      <td>9</td>\n      <td>9</td>\n      <td>RICE</td>\n    </tr>\n  </tbody>\n</table>\n<p>100 rows × 14 columns</p>\n</div>"
     },
     "execution_count": 8,
     "metadata": {},
     "output_type": "execute_result"
    }
   ],
   "source": [
    "experiments"
   ],
   "metadata": {
    "collapsed": false,
    "pycharm": {
     "name": "#%%\n"
    }
   }
  },
  {
   "cell_type": "code",
   "execution_count": 9,
   "outputs": [
    {
     "data": {
      "text/plain": "{}"
     },
     "execution_count": 9,
     "metadata": {},
     "output_type": "execute_result"
    }
   ],
   "source": [
    "outcomes"
   ],
   "metadata": {
    "collapsed": false,
    "pycharm": {
     "name": "#%%\n"
    }
   }
  },
  {
   "cell_type": "code",
   "execution_count": null,
   "outputs": [],
   "source": [],
   "metadata": {
    "collapsed": false,
    "pycharm": {
     "name": "#%%\n"
    }
   }
  }
 ],
 "metadata": {
  "kernelspec": {
   "name": "pycharm-2517ad8d",
   "language": "python",
   "display_name": "PyCharm (md_final)"
  },
  "language_info": {
   "codemirror_mode": {
    "name": "ipython",
    "version": 2
   },
   "file_extension": ".py",
   "mimetype": "text/x-python",
   "name": "python",
   "nbconvert_exporter": "python",
   "pygments_lexer": "ipython2",
   "version": "2.7.6"
  }
 },
 "nbformat": 4,
 "nbformat_minor": 0
}