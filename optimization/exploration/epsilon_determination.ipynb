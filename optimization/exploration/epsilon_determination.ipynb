{
 "cells": [
  {
   "cell_type": "markdown",
   "metadata": {
    "collapsed": true,
    "pycharm": {
     "name": "#%% md\n"
    }
   },
   "source": [
    "# Epsilon-Value Determination\n"
   ]
  },
  {
   "cell_type": "code",
   "execution_count": 1,
   "outputs": [],
   "source": [
    "from optimization.exploration.perform_experiments import *\n",
    "from ema_workbench import load_results"
   ],
   "metadata": {
    "collapsed": false,
    "pycharm": {
     "name": "#%%\n"
    }
   }
  },
  {
   "cell_type": "markdown",
   "source": [
    "## Perform experiments"
   ],
   "metadata": {
    "collapsed": false
   }
  },
  {
   "cell_type": "code",
   "execution_count": 2,
   "outputs": [
    {
     "name": "stderr",
     "output_type": "stream",
     "text": [
      "[MainProcess/INFO] results loaded succesfully from /Users/reddel/PycharmProjects/PyRICE_2022/optimization/exploration/data/results_open_exploration_30000\n"
     ]
    }
   ],
   "source": [
    "loading = True\n",
    "\n",
    "n = 30000\n",
    "file_name = f'results_open_exploration_{n}'\n",
    "target_directory = os.getcwd() + '/data/'\n",
    "\n",
    "if loading:\n",
    "    results = load_results(target_directory + file_name)\n",
    "else:\n",
    "    results = perform_own_experiments(n_scenarios=n, saving_results=True)\n",
    "\n",
    "experiments, outcomes = results"
   ],
   "metadata": {
    "collapsed": false,
    "pycharm": {
     "name": "#%%\n"
    }
   }
  },
  {
   "cell_type": "markdown",
   "source": [
    "## Create new dataframe with min and max values"
   ],
   "metadata": {
    "collapsed": false
   }
  },
  {
   "cell_type": "code",
   "execution_count": 3,
   "outputs": [],
   "source": [
    "new_dict = {}\n",
    "resolution = 10\n",
    "\n",
    "for k, v in outcomes.items():\n",
    "\n",
    "    minimum = v.min()\n",
    "    maximum = v.max()\n",
    "\n",
    "    epsilon = (maximum - minimum) / resolution\n",
    "    epsilon_rounded = round(epsilon, 3)\n",
    "\n",
    "    if epsilon_rounded == 0.0:\n",
    "        epsilon_rounded = epsilon\n",
    "\n",
    "    new_dict[k] = epsilon_rounded"
   ],
   "metadata": {
    "collapsed": false,
    "pycharm": {
     "name": "#%%\n"
    }
   }
  },
  {
   "cell_type": "code",
   "execution_count": 6,
   "outputs": [
    {
     "name": "stdout",
     "output_type": "stream",
     "text": [
      "Disutility 2105 6.378\n",
      "Intratemporal consumption Gini 2105 0.0004907399591178973\n",
      "Intratemporal damage Gini 2105 0.038\n",
      "Highest damage per capita 2105 0.071\n",
      "Distance to consumption threshold 2105 0.172\n",
      "Population below consumption threshold 2105 74.976\n",
      "Distance to damage threshold 2105 0.393\n",
      "Population above damage threshold 2105 691.412\n",
      "Temperature overshoot 2105 0.7\n",
      "Utility 2105 7.631\n",
      "Lowest income per capita 2105 0.516\n"
     ]
    }
   ],
   "source": [
    "for k, v in new_dict.items():\n",
    "    if k.split(' ')[-1] == '2105':\n",
    "        print(k, v)"
   ],
   "metadata": {
    "collapsed": false,
    "pycharm": {
     "name": "#%%\n"
    }
   }
  },
  {
   "cell_type": "markdown",
   "source": [
    "## Determining roughly some epsilons\n",
    "\n",
    "Looking at the results and picking the lowest values, roughly."
   ],
   "metadata": {
    "collapsed": false
   }
  },
  {
   "cell_type": "code",
   "execution_count": 5,
   "outputs": [],
   "source": [
    "dict_epsilons = {\n",
    "    'Utility': 5,  # 7.6\n",
    "    'Disutility': 5,  # 6.4\n",
    "    'Lowest income per capita': 0.1,  # 0.516\n",
    "    'Intratemporal consumption Gini': 0.0005,  # 0.00049\n",
    "    'Highest damage per capita': 0.05,  # 0.071\n",
    "    'Intratemporal damage Gini': 0.01,  # 0.038\n",
    "    'Population below consumption threshold': 50.0,  # 75\n",
    "    'Distance to consumption threshold': 0.1,  # 0.172\n",
    "    'Population above damage threshold': 600.0,  # 691\n",
    "    'Distance to damage threshold': 0.3,  # 0.4\n",
    "    'Temperature overshoot': 1,\n",
    "\n",
    "    'Damages': 0.1,  # 0.1\n",
    "    'Industrial Emission': 0.1,  # 1.0\n",
    "    'Atmospheric Temperature': 0.1,  # 0.55\n",
    "    'Intertemporal consumption distance': 1.0,  # 140\n",
    "    'Intertemporal consumption population': 100.0,  # 4200\n",
    "    'Intertemporal damage distance': 1.0,  # 137\n",
    "    'Intertemporal damage population': 100.0,  # 19500\n",
    "    'Intertemporal lowest income p/c': 5.0,  # 52.31\n",
    "    'Intertemporal highest damage p/c': 0.2,  # 2.328\n",
    "    'Intertemporal consumption Gini': 0.01,  # 0.01\n",
    "    'Intertemporal damage Gini': 0.01,  # 0.024\n",
    "    'Total Aggregated Utility': 100,  # 1575\n",
    "    'Total Aggregated Disutility': 100,  # 9942\n",
    "    'Costs': 0.1,  # 0.18\n",
    "    'Total Output': 1.0,  # 25\n",
    "    'Total Aggregated Costs': 20,  # 943\n",
    "}"
   ],
   "metadata": {
    "collapsed": false,
    "pycharm": {
     "name": "#%%\n"
    }
   }
  }
 ],
 "metadata": {
  "kernelspec": {
   "name": "pycharm-2517ad8d",
   "language": "python",
   "display_name": "PyCharm (md_final)"
  },
  "language_info": {
   "codemirror_mode": {
    "name": "ipython",
    "version": 2
   },
   "file_extension": ".py",
   "mimetype": "text/x-python",
   "name": "python",
   "nbconvert_exporter": "python",
   "pygments_lexer": "ipython2",
   "version": "2.7.6"
  }
 },
 "nbformat": 4,
 "nbformat_minor": 0
}