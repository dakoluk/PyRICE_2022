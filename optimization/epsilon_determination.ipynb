{
 "cells": [
  {
   "cell_type": "markdown",
   "metadata": {
    "collapsed": true,
    "pycharm": {
     "name": "#%% md\n"
    }
   },
   "source": [
    "# Epsilon-Value Determination\n"
   ]
  },
  {
   "cell_type": "code",
   "execution_count": 1,
   "outputs": [],
   "source": [
    "import pandas as pd\n",
    "from optimization.perform_experiments import *\n",
    "from ema_workbench import load_results"
   ],
   "metadata": {
    "collapsed": false,
    "pycharm": {
     "name": "#%%\n"
    }
   }
  },
  {
   "cell_type": "markdown",
   "source": [
    "## Perform experiments"
   ],
   "metadata": {
    "collapsed": false
   }
  },
  {
   "cell_type": "code",
   "execution_count": 2,
   "outputs": [
    {
     "name": "stderr",
     "output_type": "stream",
     "text": [
      "[MainProcess/INFO] results loaded succesfully from /Users/reddel/PycharmProjects/PyRICE/optimization/results/experiments/results_experiments_for_epsilons_10000\n"
     ]
    }
   ],
   "source": [
    "n = 200\n",
    "loading = True\n",
    "file_name = 'results_experiments_for_epsilons_10000'\n",
    "target_directory = os.path.dirname(os.getcwd()) + '/optimization/results/experiments/'\n",
    "\n",
    "if loading:\n",
    "    results = load_results(target_directory + file_name)\n",
    "else:\n",
    "    results = perform_own_experiments(n_scenarios=n, n_policies=n, saving_results=True)"
   ],
   "metadata": {
    "collapsed": false,
    "pycharm": {
     "name": "#%%\n"
    }
   }
  },
  {
   "cell_type": "code",
   "execution_count": 3,
   "outputs": [
    {
     "data": {
      "text/plain": "          emdd       fosslim  scenario_cback  scenario_elasticity_of_damages  \\\n0     0.071783   5440.730690             0.0                             0.0   \n1     0.426066   5187.422628             1.0                             2.0   \n2     0.064276  13429.033241             1.0                             0.0   \n3     0.092813   8246.563343             1.0                             2.0   \n4     0.089140   7890.660260             1.0                             1.0   \n...        ...           ...             ...                             ...   \n9995  0.366874   4333.657270             0.0                             1.0   \n9996  0.116900  10887.906681             0.0                             1.0   \n9997  0.466386   4110.853272             0.0                             1.0   \n9998  0.519611   8632.447491             0.0                             1.0   \n9999  0.015829   5126.976175             1.0                             2.0   \n\n      scenario_limmiu  scenario_pop_gdp  scenario_sigma  t2xco2_dist  \\\n0                 1.0               3.0             2.0          2.0   \n1                 0.0               3.0             1.0          2.0   \n2                 0.0               0.0             1.0          1.0   \n3                 0.0               4.0             1.0          1.0   \n4                 1.0               0.0             2.0          2.0   \n...               ...               ...             ...          ...   \n9995              1.0               4.0             0.0          1.0   \n9996              0.0               3.0             2.0          0.0   \n9997              1.0               2.0             1.0          1.0   \n9998              0.0               2.0             0.0          0.0   \n9999              0.0               4.0             2.0          0.0   \n\n      t2xco2_index  irstp_consumption  irstp_damage          miu        sr  \\\n0            138.0           0.006219      0.013654  2216.298099  0.270685   \n1             88.0           0.006219      0.013654  2216.298099  0.270685   \n2            307.0           0.006219      0.013654  2216.298099  0.270685   \n3            663.0           0.006219      0.013654  2216.298099  0.270685   \n4            269.0           0.006219      0.013654  2216.298099  0.270685   \n...            ...                ...           ...          ...       ...   \n9995         277.0           0.006609      0.004991  2238.177513  0.138818   \n9996         750.0           0.006609      0.004991  2238.177513  0.138818   \n9997         432.0           0.006609      0.004991  2238.177513  0.138818   \n9998          38.0           0.006609      0.004991  2238.177513  0.138818   \n9999         694.0           0.006609      0.004991  2238.177513  0.138818   \n\n     scenario policy model  \n0           0      0  RICE  \n1           1      0  RICE  \n2           2      0  RICE  \n3           3      0  RICE  \n4           4      0  RICE  \n...       ...    ...   ...  \n9995       95     99  RICE  \n9996       96     99  RICE  \n9997       97     99  RICE  \n9998       98     99  RICE  \n9999       99     99  RICE  \n\n[10000 rows x 16 columns]",
      "text/html": "<div>\n<style scoped>\n    .dataframe tbody tr th:only-of-type {\n        vertical-align: middle;\n    }\n\n    .dataframe tbody tr th {\n        vertical-align: top;\n    }\n\n    .dataframe thead th {\n        text-align: right;\n    }\n</style>\n<table border=\"1\" class=\"dataframe\">\n  <thead>\n    <tr style=\"text-align: right;\">\n      <th></th>\n      <th>emdd</th>\n      <th>fosslim</th>\n      <th>scenario_cback</th>\n      <th>scenario_elasticity_of_damages</th>\n      <th>scenario_limmiu</th>\n      <th>scenario_pop_gdp</th>\n      <th>scenario_sigma</th>\n      <th>t2xco2_dist</th>\n      <th>t2xco2_index</th>\n      <th>irstp_consumption</th>\n      <th>irstp_damage</th>\n      <th>miu</th>\n      <th>sr</th>\n      <th>scenario</th>\n      <th>policy</th>\n      <th>model</th>\n    </tr>\n  </thead>\n  <tbody>\n    <tr>\n      <th>0</th>\n      <td>0.071783</td>\n      <td>5440.730690</td>\n      <td>0.0</td>\n      <td>0.0</td>\n      <td>1.0</td>\n      <td>3.0</td>\n      <td>2.0</td>\n      <td>2.0</td>\n      <td>138.0</td>\n      <td>0.006219</td>\n      <td>0.013654</td>\n      <td>2216.298099</td>\n      <td>0.270685</td>\n      <td>0</td>\n      <td>0</td>\n      <td>RICE</td>\n    </tr>\n    <tr>\n      <th>1</th>\n      <td>0.426066</td>\n      <td>5187.422628</td>\n      <td>1.0</td>\n      <td>2.0</td>\n      <td>0.0</td>\n      <td>3.0</td>\n      <td>1.0</td>\n      <td>2.0</td>\n      <td>88.0</td>\n      <td>0.006219</td>\n      <td>0.013654</td>\n      <td>2216.298099</td>\n      <td>0.270685</td>\n      <td>1</td>\n      <td>0</td>\n      <td>RICE</td>\n    </tr>\n    <tr>\n      <th>2</th>\n      <td>0.064276</td>\n      <td>13429.033241</td>\n      <td>1.0</td>\n      <td>0.0</td>\n      <td>0.0</td>\n      <td>0.0</td>\n      <td>1.0</td>\n      <td>1.0</td>\n      <td>307.0</td>\n      <td>0.006219</td>\n      <td>0.013654</td>\n      <td>2216.298099</td>\n      <td>0.270685</td>\n      <td>2</td>\n      <td>0</td>\n      <td>RICE</td>\n    </tr>\n    <tr>\n      <th>3</th>\n      <td>0.092813</td>\n      <td>8246.563343</td>\n      <td>1.0</td>\n      <td>2.0</td>\n      <td>0.0</td>\n      <td>4.0</td>\n      <td>1.0</td>\n      <td>1.0</td>\n      <td>663.0</td>\n      <td>0.006219</td>\n      <td>0.013654</td>\n      <td>2216.298099</td>\n      <td>0.270685</td>\n      <td>3</td>\n      <td>0</td>\n      <td>RICE</td>\n    </tr>\n    <tr>\n      <th>4</th>\n      <td>0.089140</td>\n      <td>7890.660260</td>\n      <td>1.0</td>\n      <td>1.0</td>\n      <td>1.0</td>\n      <td>0.0</td>\n      <td>2.0</td>\n      <td>2.0</td>\n      <td>269.0</td>\n      <td>0.006219</td>\n      <td>0.013654</td>\n      <td>2216.298099</td>\n      <td>0.270685</td>\n      <td>4</td>\n      <td>0</td>\n      <td>RICE</td>\n    </tr>\n    <tr>\n      <th>...</th>\n      <td>...</td>\n      <td>...</td>\n      <td>...</td>\n      <td>...</td>\n      <td>...</td>\n      <td>...</td>\n      <td>...</td>\n      <td>...</td>\n      <td>...</td>\n      <td>...</td>\n      <td>...</td>\n      <td>...</td>\n      <td>...</td>\n      <td>...</td>\n      <td>...</td>\n      <td>...</td>\n    </tr>\n    <tr>\n      <th>9995</th>\n      <td>0.366874</td>\n      <td>4333.657270</td>\n      <td>0.0</td>\n      <td>1.0</td>\n      <td>1.0</td>\n      <td>4.0</td>\n      <td>0.0</td>\n      <td>1.0</td>\n      <td>277.0</td>\n      <td>0.006609</td>\n      <td>0.004991</td>\n      <td>2238.177513</td>\n      <td>0.138818</td>\n      <td>95</td>\n      <td>99</td>\n      <td>RICE</td>\n    </tr>\n    <tr>\n      <th>9996</th>\n      <td>0.116900</td>\n      <td>10887.906681</td>\n      <td>0.0</td>\n      <td>1.0</td>\n      <td>0.0</td>\n      <td>3.0</td>\n      <td>2.0</td>\n      <td>0.0</td>\n      <td>750.0</td>\n      <td>0.006609</td>\n      <td>0.004991</td>\n      <td>2238.177513</td>\n      <td>0.138818</td>\n      <td>96</td>\n      <td>99</td>\n      <td>RICE</td>\n    </tr>\n    <tr>\n      <th>9997</th>\n      <td>0.466386</td>\n      <td>4110.853272</td>\n      <td>0.0</td>\n      <td>1.0</td>\n      <td>1.0</td>\n      <td>2.0</td>\n      <td>1.0</td>\n      <td>1.0</td>\n      <td>432.0</td>\n      <td>0.006609</td>\n      <td>0.004991</td>\n      <td>2238.177513</td>\n      <td>0.138818</td>\n      <td>97</td>\n      <td>99</td>\n      <td>RICE</td>\n    </tr>\n    <tr>\n      <th>9998</th>\n      <td>0.519611</td>\n      <td>8632.447491</td>\n      <td>0.0</td>\n      <td>1.0</td>\n      <td>0.0</td>\n      <td>2.0</td>\n      <td>0.0</td>\n      <td>0.0</td>\n      <td>38.0</td>\n      <td>0.006609</td>\n      <td>0.004991</td>\n      <td>2238.177513</td>\n      <td>0.138818</td>\n      <td>98</td>\n      <td>99</td>\n      <td>RICE</td>\n    </tr>\n    <tr>\n      <th>9999</th>\n      <td>0.015829</td>\n      <td>5126.976175</td>\n      <td>1.0</td>\n      <td>2.0</td>\n      <td>0.0</td>\n      <td>4.0</td>\n      <td>2.0</td>\n      <td>0.0</td>\n      <td>694.0</td>\n      <td>0.006609</td>\n      <td>0.004991</td>\n      <td>2238.177513</td>\n      <td>0.138818</td>\n      <td>99</td>\n      <td>99</td>\n      <td>RICE</td>\n    </tr>\n  </tbody>\n</table>\n<p>10000 rows × 16 columns</p>\n</div>"
     },
     "execution_count": 3,
     "metadata": {},
     "output_type": "execute_result"
    }
   ],
   "source": [
    "experiments, outcomes = results\n",
    "experiments"
   ],
   "metadata": {
    "collapsed": false,
    "pycharm": {
     "name": "#%%\n"
    }
   }
  },
  {
   "cell_type": "code",
   "execution_count": 4,
   "outputs": [
    {
     "data": {
      "text/plain": "      Total Aggregated Utility  Intertemporal lowest income p/c  \\\n0                  7899.339395                       509.305995   \n1                  7911.940631                       341.085221   \n2                  7891.046247                       492.888280   \n3                  7907.683449                       306.731586   \n4                  7900.058260                       448.421482   \n...                        ...                              ...   \n9995               7431.504190                       436.226890   \n9996               7425.012504                       413.558814   \n9997               7422.906005                       419.508121   \n9998               7375.632411                       235.045677   \n9999               7381.808598                        70.101315   \n\n      Total Aggregated Costs  Total Aggregated Disutility  \\\n0                1093.509910                  6860.717586   \n1                 877.731091                  4546.861126   \n2                1596.793877                 11926.304004   \n3                 989.729492                  5712.202766   \n4                1019.497417                  5593.805172   \n...                      ...                          ...   \n9995              513.459848                  1959.046106   \n9996              700.494998                  3445.604074   \n9997              665.441331                  3922.350110   \n9998             2095.219610                 10681.040986   \n9999             1889.088295                 16867.545676   \n\n      Intertemporal consumption GINI  Intertemporal damage GINI  \\\n0                           0.370172                   0.469083   \n1                           0.369487                   0.513889   \n2                           0.365214                   0.536609   \n3                           0.369037                   0.511982   \n4                           0.370851                   0.461108   \n...                              ...                        ...   \n9995                        0.357072                   0.477653   \n9996                        0.355242                   0.503752   \n9997                        0.356569                   0.469864   \n9998                        0.341679                   0.549613   \n9999                        0.344246                   0.545873   \n\n      Intertemporal highest damage p/c  Intertemporal consumption distance  \\\n0                             2.297556                            2.526150   \n1                            11.253968                            3.638307   \n2                             2.943284                            2.529426   \n3                            12.235027                            4.244919   \n4                             6.366817                            2.975490   \n...                                ...                                 ...   \n9995                          4.057174                            2.598528   \n9996                          4.951081                            2.664144   \n9997                          4.896452                            2.687782   \n9998                         11.993821                            4.808809   \n9999                         18.810761                          378.717282   \n\n      Intertemporal consumption population  Intertemporal damage distance  \\\n0                              5915.999640                     240.965795   \n1                              8053.723030                     166.763262   \n2                              5915.999640                     373.625132   \n3                              8915.754186                     192.582454   \n4                              6286.190052                     199.618032   \n...                                    ...                            ...   \n9995                           5915.999640                      71.354609   \n9996                           5915.999640                     115.767517   \n9997                           5915.999640                     108.610107   \n9998                          10618.325193                     466.067513   \n9999                          17605.447199                     419.404588   \n\n      ...  Industrial Emission 2305  Total Output 2105  Total Output 2205  \\\n0     ...                 -7.156265         522.556820        1290.146706   \n1     ...                  0.001981         527.659741        1312.088182   \n2     ...                  0.001981         521.425683        1270.686676   \n3     ...                  0.001981         526.165246        1304.825710   \n4     ...                 -7.170002         522.626735        1293.744803   \n...   ...                       ...                ...                ...   \n9995  ...                 -5.404581         443.605546         994.505961   \n9996  ...                  0.001981         441.896495         985.518068   \n9997  ...                 -5.389176         440.842113         984.019058   \n9998  ...                  0.001981         430.265430         907.721266   \n9999  ...                  0.001981         431.467187         918.398210   \n\n      Total Output 2305  Utility 2105  Utility 2205  Utility 2305  \\\n0           2400.365488   6037.981004   4314.050094   2636.868638   \n1           2406.134596   6059.132005   4325.601660   2637.225820   \n2           2293.927951   6033.268074   4303.371663   2623.788943   \n3           2391.748537   6052.915643   4321.744184   2635.521500   \n4           2415.231495   6038.978946   4316.434159   2638.547667   \n...                 ...           ...           ...           ...   \n9995        1832.824028   5787.200258   3943.303698   2324.926073   \n9996        1799.746543   5778.525054   3936.768608   2319.919440   \n9997        1816.676660   5773.847687   3936.056012   2322.573763   \n9998        1571.632976   5722.462332   3879.977802   2282.118047   \n9999        1609.328518   5728.635566   3888.468051   2289.104304   \n\n      Lowest income per capita 2105  Lowest income per capita 2205  \\\n0                          6.851326                      22.312662   \n1                          5.809605                      16.468390   \n2                          6.829552                      21.836068   \n3                          5.627483                      15.407098   \n4                          6.237993                      19.319806   \n...                             ...                            ...   \n9995                       6.485602                      18.975355   \n9996                       6.349627                      18.101593   \n9997                       6.306835                      18.148930   \n9998                       5.611850                      12.341192   \n9999                       4.452585                       0.427534   \n\n      Lowest income per capita 2305  \n0                         42.339813  \n1                         19.471296  \n2                         39.841314  \n3                         15.374656  \n4                         37.530670  \n...                             ...  \n9995                      35.385615  \n9996                      32.718176  \n9997                      34.131583  \n9998                       6.433546  \n9999                       0.010000  \n\n[10000 rows x 101 columns]",
      "text/html": "<div>\n<style scoped>\n    .dataframe tbody tr th:only-of-type {\n        vertical-align: middle;\n    }\n\n    .dataframe tbody tr th {\n        vertical-align: top;\n    }\n\n    .dataframe thead th {\n        text-align: right;\n    }\n</style>\n<table border=\"1\" class=\"dataframe\">\n  <thead>\n    <tr style=\"text-align: right;\">\n      <th></th>\n      <th>Total Aggregated Utility</th>\n      <th>Intertemporal lowest income p/c</th>\n      <th>Total Aggregated Costs</th>\n      <th>Total Aggregated Disutility</th>\n      <th>Intertemporal consumption GINI</th>\n      <th>Intertemporal damage GINI</th>\n      <th>Intertemporal highest damage p/c</th>\n      <th>Intertemporal consumption distance</th>\n      <th>Intertemporal consumption population</th>\n      <th>Intertemporal damage distance</th>\n      <th>...</th>\n      <th>Industrial Emission 2305</th>\n      <th>Total Output 2105</th>\n      <th>Total Output 2205</th>\n      <th>Total Output 2305</th>\n      <th>Utility 2105</th>\n      <th>Utility 2205</th>\n      <th>Utility 2305</th>\n      <th>Lowest income per capita 2105</th>\n      <th>Lowest income per capita 2205</th>\n      <th>Lowest income per capita 2305</th>\n    </tr>\n  </thead>\n  <tbody>\n    <tr>\n      <th>0</th>\n      <td>7899.339395</td>\n      <td>509.305995</td>\n      <td>1093.509910</td>\n      <td>6860.717586</td>\n      <td>0.370172</td>\n      <td>0.469083</td>\n      <td>2.297556</td>\n      <td>2.526150</td>\n      <td>5915.999640</td>\n      <td>240.965795</td>\n      <td>...</td>\n      <td>-7.156265</td>\n      <td>522.556820</td>\n      <td>1290.146706</td>\n      <td>2400.365488</td>\n      <td>6037.981004</td>\n      <td>4314.050094</td>\n      <td>2636.868638</td>\n      <td>6.851326</td>\n      <td>22.312662</td>\n      <td>42.339813</td>\n    </tr>\n    <tr>\n      <th>1</th>\n      <td>7911.940631</td>\n      <td>341.085221</td>\n      <td>877.731091</td>\n      <td>4546.861126</td>\n      <td>0.369487</td>\n      <td>0.513889</td>\n      <td>11.253968</td>\n      <td>3.638307</td>\n      <td>8053.723030</td>\n      <td>166.763262</td>\n      <td>...</td>\n      <td>0.001981</td>\n      <td>527.659741</td>\n      <td>1312.088182</td>\n      <td>2406.134596</td>\n      <td>6059.132005</td>\n      <td>4325.601660</td>\n      <td>2637.225820</td>\n      <td>5.809605</td>\n      <td>16.468390</td>\n      <td>19.471296</td>\n    </tr>\n    <tr>\n      <th>2</th>\n      <td>7891.046247</td>\n      <td>492.888280</td>\n      <td>1596.793877</td>\n      <td>11926.304004</td>\n      <td>0.365214</td>\n      <td>0.536609</td>\n      <td>2.943284</td>\n      <td>2.529426</td>\n      <td>5915.999640</td>\n      <td>373.625132</td>\n      <td>...</td>\n      <td>0.001981</td>\n      <td>521.425683</td>\n      <td>1270.686676</td>\n      <td>2293.927951</td>\n      <td>6033.268074</td>\n      <td>4303.371663</td>\n      <td>2623.788943</td>\n      <td>6.829552</td>\n      <td>21.836068</td>\n      <td>39.841314</td>\n    </tr>\n    <tr>\n      <th>3</th>\n      <td>7907.683449</td>\n      <td>306.731586</td>\n      <td>989.729492</td>\n      <td>5712.202766</td>\n      <td>0.369037</td>\n      <td>0.511982</td>\n      <td>12.235027</td>\n      <td>4.244919</td>\n      <td>8915.754186</td>\n      <td>192.582454</td>\n      <td>...</td>\n      <td>0.001981</td>\n      <td>526.165246</td>\n      <td>1304.825710</td>\n      <td>2391.748537</td>\n      <td>6052.915643</td>\n      <td>4321.744184</td>\n      <td>2635.521500</td>\n      <td>5.627483</td>\n      <td>15.407098</td>\n      <td>15.374656</td>\n    </tr>\n    <tr>\n      <th>4</th>\n      <td>7900.058260</td>\n      <td>448.421482</td>\n      <td>1019.497417</td>\n      <td>5593.805172</td>\n      <td>0.370851</td>\n      <td>0.461108</td>\n      <td>6.366817</td>\n      <td>2.975490</td>\n      <td>6286.190052</td>\n      <td>199.618032</td>\n      <td>...</td>\n      <td>-7.170002</td>\n      <td>522.626735</td>\n      <td>1293.744803</td>\n      <td>2415.231495</td>\n      <td>6038.978946</td>\n      <td>4316.434159</td>\n      <td>2638.547667</td>\n      <td>6.237993</td>\n      <td>19.319806</td>\n      <td>37.530670</td>\n    </tr>\n    <tr>\n      <th>...</th>\n      <td>...</td>\n      <td>...</td>\n      <td>...</td>\n      <td>...</td>\n      <td>...</td>\n      <td>...</td>\n      <td>...</td>\n      <td>...</td>\n      <td>...</td>\n      <td>...</td>\n      <td>...</td>\n      <td>...</td>\n      <td>...</td>\n      <td>...</td>\n      <td>...</td>\n      <td>...</td>\n      <td>...</td>\n      <td>...</td>\n      <td>...</td>\n      <td>...</td>\n      <td>...</td>\n    </tr>\n    <tr>\n      <th>9995</th>\n      <td>7431.504190</td>\n      <td>436.226890</td>\n      <td>513.459848</td>\n      <td>1959.046106</td>\n      <td>0.357072</td>\n      <td>0.477653</td>\n      <td>4.057174</td>\n      <td>2.598528</td>\n      <td>5915.999640</td>\n      <td>71.354609</td>\n      <td>...</td>\n      <td>-5.404581</td>\n      <td>443.605546</td>\n      <td>994.505961</td>\n      <td>1832.824028</td>\n      <td>5787.200258</td>\n      <td>3943.303698</td>\n      <td>2324.926073</td>\n      <td>6.485602</td>\n      <td>18.975355</td>\n      <td>35.385615</td>\n    </tr>\n    <tr>\n      <th>9996</th>\n      <td>7425.012504</td>\n      <td>413.558814</td>\n      <td>700.494998</td>\n      <td>3445.604074</td>\n      <td>0.355242</td>\n      <td>0.503752</td>\n      <td>4.951081</td>\n      <td>2.664144</td>\n      <td>5915.999640</td>\n      <td>115.767517</td>\n      <td>...</td>\n      <td>0.001981</td>\n      <td>441.896495</td>\n      <td>985.518068</td>\n      <td>1799.746543</td>\n      <td>5778.525054</td>\n      <td>3936.768608</td>\n      <td>2319.919440</td>\n      <td>6.349627</td>\n      <td>18.101593</td>\n      <td>32.718176</td>\n    </tr>\n    <tr>\n      <th>9997</th>\n      <td>7422.906005</td>\n      <td>419.508121</td>\n      <td>665.441331</td>\n      <td>3922.350110</td>\n      <td>0.356569</td>\n      <td>0.469864</td>\n      <td>4.896452</td>\n      <td>2.687782</td>\n      <td>5915.999640</td>\n      <td>108.610107</td>\n      <td>...</td>\n      <td>-5.389176</td>\n      <td>440.842113</td>\n      <td>984.019058</td>\n      <td>1816.676660</td>\n      <td>5773.847687</td>\n      <td>3936.056012</td>\n      <td>2322.573763</td>\n      <td>6.306835</td>\n      <td>18.148930</td>\n      <td>34.131583</td>\n    </tr>\n    <tr>\n      <th>9998</th>\n      <td>7375.632411</td>\n      <td>235.045677</td>\n      <td>2095.219610</td>\n      <td>10681.040986</td>\n      <td>0.341679</td>\n      <td>0.549613</td>\n      <td>11.993821</td>\n      <td>4.808809</td>\n      <td>10618.325193</td>\n      <td>466.067513</td>\n      <td>...</td>\n      <td>0.001981</td>\n      <td>430.265430</td>\n      <td>907.721266</td>\n      <td>1571.632976</td>\n      <td>5722.462332</td>\n      <td>3879.977802</td>\n      <td>2282.118047</td>\n      <td>5.611850</td>\n      <td>12.341192</td>\n      <td>6.433546</td>\n    </tr>\n    <tr>\n      <th>9999</th>\n      <td>7381.808598</td>\n      <td>70.101315</td>\n      <td>1889.088295</td>\n      <td>16867.545676</td>\n      <td>0.344246</td>\n      <td>0.545873</td>\n      <td>18.810761</td>\n      <td>378.717282</td>\n      <td>17605.447199</td>\n      <td>419.404588</td>\n      <td>...</td>\n      <td>0.001981</td>\n      <td>431.467187</td>\n      <td>918.398210</td>\n      <td>1609.328518</td>\n      <td>5728.635566</td>\n      <td>3888.468051</td>\n      <td>2289.104304</td>\n      <td>4.452585</td>\n      <td>0.427534</td>\n      <td>0.010000</td>\n    </tr>\n  </tbody>\n</table>\n<p>10000 rows × 101 columns</p>\n</div>"
     },
     "execution_count": 4,
     "metadata": {},
     "output_type": "execute_result"
    }
   ],
   "source": [
    "pd.DataFrame(outcomes)"
   ],
   "metadata": {
    "collapsed": false,
    "pycharm": {
     "name": "#%%\n"
    }
   }
  },
  {
   "cell_type": "markdown",
   "source": [
    "## Create new dataframe with min and max values"
   ],
   "metadata": {
    "collapsed": false
   }
  },
  {
   "cell_type": "code",
   "execution_count": 5,
   "outputs": [],
   "source": [
    "new_dict = {}\n",
    "resolution = 10\n",
    "\n",
    "for k, v in outcomes.items():\n",
    "\n",
    "    minimum = v.min()\n",
    "    maximum = v.max()\n",
    "\n",
    "    epsilon = (maximum - minimum) / resolution\n",
    "    epsilon_rounded = round(epsilon, 3)\n",
    "\n",
    "    if epsilon_rounded == 0.0:\n",
    "        epsilon_rounded = epsilon\n",
    "\n",
    "    new_dict[k] = epsilon_rounded"
   ],
   "metadata": {
    "collapsed": false,
    "pycharm": {
     "name": "#%%\n"
    }
   }
  },
  {
   "cell_type": "code",
   "execution_count": 6,
   "outputs": [
    {
     "name": "stdout",
     "output_type": "stream",
     "text": [
      "('Total Aggregated Utility', 1559.497)\n",
      "('Intertemporal lowest income p/c', 52.11)\n",
      "('Total Aggregated Costs', 591.037)\n",
      "('Total Aggregated Disutility', 5808.925)\n",
      "('Intertemporal consumption GINI', 0.005)\n",
      "('Intertemporal damage GINI', 0.022)\n",
      "('Intertemporal highest damage p/c', 2.259)\n",
      "('Intertemporal consumption distance', 140.726)\n",
      "('Intertemporal consumption population', 4188.162)\n",
      "('Intertemporal damage distance', 137.498)\n",
      "('Intertemporal damage population', 19581.61)\n",
      "('Total Output 2035', 1.094)\n",
      "('Total Output 2055', 4.752)\n",
      "('Total Output 2075', 10.867)\n",
      "('Utility 2035', 131.87)\n",
      "('Utility 2055', 309.668)\n",
      "('Utility 2075', 500.025)\n",
      "('Lowest income per capita 2035', 0.024)\n",
      "('Lowest income per capita 2055', 0.069)\n",
      "('Lowest income per capita 2075', 0.173)\n",
      "('Costs 2035', 0.18)\n",
      "('Costs 2055', 0.812)\n",
      "('Costs 2075', 2.134)\n",
      "('Disutility 2035', 1.176)\n",
      "('Disutility 2055', 2.171)\n",
      "('Disutility 2075', 3.46)\n",
      "('Intratemporal consumption GINI 2035', 0.0001027447381299007)\n",
      "('Intratemporal consumption GINI 2055', 0.001)\n",
      "('Intratemporal consumption GINI 2075', 0.001)\n",
      "('Intratemporal damage GINI 2035', 0.036)\n",
      "('Intratemporal damage GINI 2055', 0.011)\n",
      "('Intratemporal damage GINI 2075', 0.014)\n",
      "('Highest damage per capita 2035', 0.012)\n",
      "('Highest damage per capita 2055', 0.023)\n",
      "('Highest damage per capita 2075', 0.039)\n",
      "('Distance to consumption threshold 2035', 0.008)\n",
      "('Distance to consumption threshold 2055', 0.044)\n",
      "('Distance to consumption threshold 2075', 0.075)\n",
      "('Population below consumption threshold 2035', 29.584)\n",
      "('Population below consumption threshold 2055', 0.0)\n",
      "('Population below consumption threshold 2075', 0.0)\n",
      "('Distance to damage threshold 2035', 0.0)\n",
      "('Distance to damage threshold 2055', 0.011)\n",
      "('Distance to damage threshold 2075', 0.078)\n",
      "('Population above damage threshold 2035', 0.0)\n",
      "('Population above damage threshold 2055', 316.619)\n",
      "('Population above damage threshold 2075', 602.504)\n",
      "('Atmospheric Temperature 2035', 0.118)\n",
      "('Atmospheric Temperature 2055', 0.206)\n",
      "('Atmospheric Temperature 2075', 0.3)\n",
      "('Industrial Emission 2035', 0.394)\n",
      "('Industrial Emission 2055', 1.006)\n",
      "('Industrial Emission 2075', 1.774)\n",
      "('Damages 2035', 0.085)\n",
      "('Damages 2055', 0.345)\n",
      "('Damages 2075', 0.943)\n",
      "('Damages 2105', 3.067)\n",
      "('Damages 2205', 24.081)\n",
      "('Damages 2305', 64.674)\n",
      "('Costs 2105', 3.272)\n",
      "('Costs 2205', 24.41)\n",
      "('Costs 2305', 64.691)\n",
      "('Disutility 2105', 6.194)\n",
      "('Disutility 2205', 43.777)\n",
      "('Disutility 2305', 119.126)\n",
      "('Intratemporal consumption GINI 2105', 0.001)\n",
      "('Intratemporal consumption GINI 2205', 0.002)\n",
      "('Intratemporal consumption GINI 2305', 0.005)\n",
      "('Intratemporal damage GINI 2105', 0.037)\n",
      "('Intratemporal damage GINI 2205', 0.036)\n",
      "('Intratemporal damage GINI 2305', 0.031)\n",
      "('Highest damage per capita 2105', 0.075)\n",
      "('Highest damage per capita 2205', 0.098)\n",
      "('Highest damage per capita 2305', 0.097)\n",
      "('Distance to consumption threshold 2105', 0.206)\n",
      "('Distance to consumption threshold 2205', 7.357)\n",
      "('Distance to consumption threshold 2305', 8.535)\n",
      "('Population below consumption threshold 2105', 74.976)\n",
      "('Population below consumption threshold 2205', 213.825)\n",
      "('Population below consumption threshold 2305', 255.078)\n",
      "('Distance to damage threshold 2105', 0.404)\n",
      "('Distance to damage threshold 2205', 5.362)\n",
      "('Distance to damage threshold 2305', 16.387)\n",
      "('Population above damage threshold 2105', 691.412)\n",
      "('Population above damage threshold 2205', 781.869)\n",
      "('Population above damage threshold 2305', 836.44)\n",
      "('Atmospheric Temperature 2105', 0.463)\n",
      "('Atmospheric Temperature 2205', 0.732)\n",
      "('Atmospheric Temperature 2305', 0.752)\n",
      "('Industrial Emission 2105', 2.021)\n",
      "('Industrial Emission 2205', 1.836)\n",
      "('Industrial Emission 2305', 0.982)\n",
      "('Total Output 2105', 25.906)\n",
      "('Total Output 2205', 91.973)\n",
      "('Total Output 2305', 179.409)\n",
      "('Utility 2105', 765.058)\n",
      "('Utility 2205', 1141.467)\n",
      "('Utility 2305', 1220.551)\n",
      "('Lowest income per capita 2105', 0.553)\n",
      "('Lowest income per capita 2205', 2.386)\n",
      "('Lowest income per capita 2305', 4.459)\n"
     ]
    }
   ],
   "source": [
    "for i in new_dict.items():\n",
    "    print(i)"
   ],
   "metadata": {
    "collapsed": false,
    "pycharm": {
     "name": "#%%\n"
    }
   }
  },
  {
   "cell_type": "markdown",
   "source": [
    "## Determining roughly some epsilons\n",
    "\n",
    "Looking at the results and picking the lowest values, roughly."
   ],
   "metadata": {
    "collapsed": false
   }
  },
  {
   "cell_type": "code",
   "execution_count": 7,
   "outputs": [],
   "source": [
    "dict_epsilons = {\n",
    "    'Total Aggregated Utility': 100,  # 1575\n",
    "    'Utility': 10,  # 135\n",
    "    'Total Aggregated Disutility': 100,  # 9942\n",
    "    'Disutility': 1.0,  # 1.1\n",
    "    'Lowest income per capita': 0.02,  # 0.026\n",
    "    'Intratemporal consumption GINI': 0.001,  # 0.001\n",
    "    'Total Output': 1.0,  # 25\n",
    "    'Atmospheric Temperature': 0.1,  # 0.55\n",
    "    'Highest damage per capita': 0.01,  # 0.096\n",
    "    'Intratemporal damage GINI': 0.01,  # 0.032\n",
    "    'Damages': 0.1,  # 0.1\n",
    "    'Industrial Emission': 0.1,  # 1.0\n",
    "    'Population below consumption threshold': 20.0,  # 75\n",
    "    'Distance to consumption threshold': 0.001,  # 0.008\n",
    "    'Population above damage threshold': 50.0,  # 691\n",
    "    'Distance to damage threshold': 0.1,  # 0.4\n",
    "    'Intertemporal consumption distance': 1.0,  # 140\n",
    "    'Intertemporal consumption population': 100.0,  # 4200\n",
    "    'Intertemporal damage distance': 1.0,  # 137\n",
    "    'Intertemporal damage population': 100.0,  # 19500\n",
    "    'Intertemporal lowest income p/c': 5.0,  # 52.31\n",
    "    'Intertemporal highest damage p/c': 0.2,  # 2.328\n",
    "    'Intertemporal consumption GINI': 0.01,  # 0.01\n",
    "    'Intertemporal damage GINI': 0.01,  # 0.024\n",
    "    'Costs': 0.1,  # 0.18\n",
    "    'Total Aggregated Costs': 20  # 943\n",
    "}"
   ],
   "metadata": {
    "collapsed": false,
    "pycharm": {
     "name": "#%%\n"
    }
   }
  }
 ],
 "metadata": {
  "kernelspec": {
   "name": "pycharm-2517ad8d",
   "language": "python",
   "display_name": "PyCharm (md_final)"
  },
  "language_info": {
   "codemirror_mode": {
    "name": "ipython",
    "version": 2
   },
   "file_extension": ".py",
   "mimetype": "text/x-python",
   "name": "python",
   "nbconvert_exporter": "python",
   "pygments_lexer": "ipython2",
   "version": "2.7.6"
  }
 },
 "nbformat": 4,
 "nbformat_minor": 0
}