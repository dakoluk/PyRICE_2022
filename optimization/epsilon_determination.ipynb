{
 "cells": [
  {
   "cell_type": "markdown",
   "metadata": {
    "collapsed": true,
    "pycharm": {
     "name": "#%% md\n"
    }
   },
   "source": [
    "# Epsilon-Value Determination\n"
   ]
  },
  {
   "cell_type": "code",
   "execution_count": 1,
   "outputs": [],
   "source": [
    "import pandas as pd\n",
    "from optimization.perform_experiments import *"
   ],
   "metadata": {
    "collapsed": false,
    "pycharm": {
     "name": "#%%\n"
    }
   }
  },
  {
   "cell_type": "markdown",
   "source": [
    "## Perform experiments"
   ],
   "metadata": {
    "collapsed": false
   }
  },
  {
   "cell_type": "code",
   "execution_count": 2,
   "outputs": [
    {
     "name": "stderr",
     "output_type": "stream",
     "text": [
      "[MainProcess/INFO] pool started\n",
      "[MainProcess/INFO] performing 20 scenarios * 20 policies * 1 model(s) = 400 experiments\n",
      "[MainProcess/INFO] 40 cases completed\n",
      "[MainProcess/INFO] 80 cases completed\n",
      "[MainProcess/INFO] 120 cases completed\n",
      "[MainProcess/INFO] 160 cases completed\n",
      "[MainProcess/INFO] 200 cases completed\n",
      "[MainProcess/INFO] 240 cases completed\n",
      "[MainProcess/INFO] 280 cases completed\n",
      "[MainProcess/INFO] 320 cases completed\n",
      "[MainProcess/INFO] 360 cases completed\n",
      "[MainProcess/INFO] 400 cases completed\n",
      "[MainProcess/INFO] experiments finished\n",
      "[MainProcess/INFO] results saved successfully to /Users/reddel/PycharmProjects/PyRICE/optimization/results/experiments/results_experiments_for_epsilons_400\n",
      "[MainProcess/INFO] terminating pool\n"
     ]
    }
   ],
   "source": [
    "n = 20\n",
    "\n",
    "results = perform_own_experiments(n_scenarios=n, n_policies=n, saving=True)"
   ],
   "metadata": {
    "collapsed": false,
    "pycharm": {
     "name": "#%%\n"
    }
   }
  },
  {
   "cell_type": "code",
   "execution_count": 3,
   "outputs": [
    {
     "data": {
      "text/plain": "         emdd       fosslim  scenario_cback  scenario_elasticity_of_damages  \\\n0    0.270956  13168.856084             1.0                             0.0   \n1    0.153917   5368.036546             0.0                             0.0   \n2    0.440963   8811.672519             1.0                             2.0   \n3    0.112661   5787.421175             1.0                             1.0   \n4    0.345400   8307.405687             1.0                             0.0   \n..        ...           ...             ...                             ...   \n395  0.381777   6683.579828             0.0                             1.0   \n396  0.551031   9530.010994             1.0                             2.0   \n397  0.465658  12407.938086             1.0                             2.0   \n398  0.396151   6032.925832             0.0                             0.0   \n399  0.076632  11793.790300             0.0                             1.0   \n\n     scenario_limmiu  scenario_pop_gdp  scenario_sigma  t2xco2_dist  \\\n0                0.0               0.0             1.0          1.0   \n1                1.0               1.0             1.0          0.0   \n2                1.0               3.0             0.0          1.0   \n3                0.0               5.0             1.0          1.0   \n4                1.0               4.0             1.0          2.0   \n..               ...               ...             ...          ...   \n395              1.0               0.0             1.0          2.0   \n396              0.0               5.0             2.0          2.0   \n397              0.0               3.0             0.0          1.0   \n398              1.0               1.0             2.0          2.0   \n399              1.0               0.0             2.0          0.0   \n\n     t2xco2_index  irstp_consumption  irstp_damage          miu        sr  \\\n0           531.0           0.010538      0.014960  2231.299181  0.456680   \n1           388.0           0.010538      0.014960  2231.299181  0.456680   \n2           242.0           0.010538      0.014960  2231.299181  0.456680   \n3           299.0           0.010538      0.014960  2231.299181  0.456680   \n4           797.0           0.010538      0.014960  2231.299181  0.456680   \n..            ...                ...           ...          ...       ...   \n395         448.0           0.006981      0.004774  2081.582673  0.350071   \n396         988.0           0.006981      0.004774  2081.582673  0.350071   \n397         676.0           0.006981      0.004774  2081.582673  0.350071   \n398         117.0           0.006981      0.004774  2081.582673  0.350071   \n399         833.0           0.006981      0.004774  2081.582673  0.350071   \n\n    scenario policy model  \n0          0      0  RICE  \n1          1      0  RICE  \n2          2      0  RICE  \n3          3      0  RICE  \n4          4      0  RICE  \n..       ...    ...   ...  \n395       15     19  RICE  \n396       16     19  RICE  \n397       17     19  RICE  \n398       18     19  RICE  \n399       19     19  RICE  \n\n[400 rows x 16 columns]",
      "text/html": "<div>\n<style scoped>\n    .dataframe tbody tr th:only-of-type {\n        vertical-align: middle;\n    }\n\n    .dataframe tbody tr th {\n        vertical-align: top;\n    }\n\n    .dataframe thead th {\n        text-align: right;\n    }\n</style>\n<table border=\"1\" class=\"dataframe\">\n  <thead>\n    <tr style=\"text-align: right;\">\n      <th></th>\n      <th>emdd</th>\n      <th>fosslim</th>\n      <th>scenario_cback</th>\n      <th>scenario_elasticity_of_damages</th>\n      <th>scenario_limmiu</th>\n      <th>scenario_pop_gdp</th>\n      <th>scenario_sigma</th>\n      <th>t2xco2_dist</th>\n      <th>t2xco2_index</th>\n      <th>irstp_consumption</th>\n      <th>irstp_damage</th>\n      <th>miu</th>\n      <th>sr</th>\n      <th>scenario</th>\n      <th>policy</th>\n      <th>model</th>\n    </tr>\n  </thead>\n  <tbody>\n    <tr>\n      <th>0</th>\n      <td>0.270956</td>\n      <td>13168.856084</td>\n      <td>1.0</td>\n      <td>0.0</td>\n      <td>0.0</td>\n      <td>0.0</td>\n      <td>1.0</td>\n      <td>1.0</td>\n      <td>531.0</td>\n      <td>0.010538</td>\n      <td>0.014960</td>\n      <td>2231.299181</td>\n      <td>0.456680</td>\n      <td>0</td>\n      <td>0</td>\n      <td>RICE</td>\n    </tr>\n    <tr>\n      <th>1</th>\n      <td>0.153917</td>\n      <td>5368.036546</td>\n      <td>0.0</td>\n      <td>0.0</td>\n      <td>1.0</td>\n      <td>1.0</td>\n      <td>1.0</td>\n      <td>0.0</td>\n      <td>388.0</td>\n      <td>0.010538</td>\n      <td>0.014960</td>\n      <td>2231.299181</td>\n      <td>0.456680</td>\n      <td>1</td>\n      <td>0</td>\n      <td>RICE</td>\n    </tr>\n    <tr>\n      <th>2</th>\n      <td>0.440963</td>\n      <td>8811.672519</td>\n      <td>1.0</td>\n      <td>2.0</td>\n      <td>1.0</td>\n      <td>3.0</td>\n      <td>0.0</td>\n      <td>1.0</td>\n      <td>242.0</td>\n      <td>0.010538</td>\n      <td>0.014960</td>\n      <td>2231.299181</td>\n      <td>0.456680</td>\n      <td>2</td>\n      <td>0</td>\n      <td>RICE</td>\n    </tr>\n    <tr>\n      <th>3</th>\n      <td>0.112661</td>\n      <td>5787.421175</td>\n      <td>1.0</td>\n      <td>1.0</td>\n      <td>0.0</td>\n      <td>5.0</td>\n      <td>1.0</td>\n      <td>1.0</td>\n      <td>299.0</td>\n      <td>0.010538</td>\n      <td>0.014960</td>\n      <td>2231.299181</td>\n      <td>0.456680</td>\n      <td>3</td>\n      <td>0</td>\n      <td>RICE</td>\n    </tr>\n    <tr>\n      <th>4</th>\n      <td>0.345400</td>\n      <td>8307.405687</td>\n      <td>1.0</td>\n      <td>0.0</td>\n      <td>1.0</td>\n      <td>4.0</td>\n      <td>1.0</td>\n      <td>2.0</td>\n      <td>797.0</td>\n      <td>0.010538</td>\n      <td>0.014960</td>\n      <td>2231.299181</td>\n      <td>0.456680</td>\n      <td>4</td>\n      <td>0</td>\n      <td>RICE</td>\n    </tr>\n    <tr>\n      <th>...</th>\n      <td>...</td>\n      <td>...</td>\n      <td>...</td>\n      <td>...</td>\n      <td>...</td>\n      <td>...</td>\n      <td>...</td>\n      <td>...</td>\n      <td>...</td>\n      <td>...</td>\n      <td>...</td>\n      <td>...</td>\n      <td>...</td>\n      <td>...</td>\n      <td>...</td>\n      <td>...</td>\n    </tr>\n    <tr>\n      <th>395</th>\n      <td>0.381777</td>\n      <td>6683.579828</td>\n      <td>0.0</td>\n      <td>1.0</td>\n      <td>1.0</td>\n      <td>0.0</td>\n      <td>1.0</td>\n      <td>2.0</td>\n      <td>448.0</td>\n      <td>0.006981</td>\n      <td>0.004774</td>\n      <td>2081.582673</td>\n      <td>0.350071</td>\n      <td>15</td>\n      <td>19</td>\n      <td>RICE</td>\n    </tr>\n    <tr>\n      <th>396</th>\n      <td>0.551031</td>\n      <td>9530.010994</td>\n      <td>1.0</td>\n      <td>2.0</td>\n      <td>0.0</td>\n      <td>5.0</td>\n      <td>2.0</td>\n      <td>2.0</td>\n      <td>988.0</td>\n      <td>0.006981</td>\n      <td>0.004774</td>\n      <td>2081.582673</td>\n      <td>0.350071</td>\n      <td>16</td>\n      <td>19</td>\n      <td>RICE</td>\n    </tr>\n    <tr>\n      <th>397</th>\n      <td>0.465658</td>\n      <td>12407.938086</td>\n      <td>1.0</td>\n      <td>2.0</td>\n      <td>0.0</td>\n      <td>3.0</td>\n      <td>0.0</td>\n      <td>1.0</td>\n      <td>676.0</td>\n      <td>0.006981</td>\n      <td>0.004774</td>\n      <td>2081.582673</td>\n      <td>0.350071</td>\n      <td>17</td>\n      <td>19</td>\n      <td>RICE</td>\n    </tr>\n    <tr>\n      <th>398</th>\n      <td>0.396151</td>\n      <td>6032.925832</td>\n      <td>0.0</td>\n      <td>0.0</td>\n      <td>1.0</td>\n      <td>1.0</td>\n      <td>2.0</td>\n      <td>2.0</td>\n      <td>117.0</td>\n      <td>0.006981</td>\n      <td>0.004774</td>\n      <td>2081.582673</td>\n      <td>0.350071</td>\n      <td>18</td>\n      <td>19</td>\n      <td>RICE</td>\n    </tr>\n    <tr>\n      <th>399</th>\n      <td>0.076632</td>\n      <td>11793.790300</td>\n      <td>0.0</td>\n      <td>1.0</td>\n      <td>1.0</td>\n      <td>0.0</td>\n      <td>2.0</td>\n      <td>0.0</td>\n      <td>833.0</td>\n      <td>0.006981</td>\n      <td>0.004774</td>\n      <td>2081.582673</td>\n      <td>0.350071</td>\n      <td>19</td>\n      <td>19</td>\n      <td>RICE</td>\n    </tr>\n  </tbody>\n</table>\n<p>400 rows × 16 columns</p>\n</div>"
     },
     "execution_count": 3,
     "metadata": {},
     "output_type": "execute_result"
    }
   ],
   "source": [
    "experiments, outcomes = results\n",
    "\n",
    "experiments"
   ],
   "metadata": {
    "collapsed": false,
    "pycharm": {
     "name": "#%%\n"
    }
   }
  },
  {
   "cell_type": "code",
   "execution_count": 4,
   "outputs": [
    {
     "data": {
      "text/plain": "     Total Aggregated Utility  Intertemporal lowest income p/c  \\\n0                 4196.792629                       470.138558   \n1                 4181.350510                       446.142432   \n2                 4210.154510                       385.408446   \n3                 4178.149333                       131.959387   \n4                 4163.679450                       414.609853   \n..                        ...                              ...   \n395               7042.729243                       500.713256   \n396               7040.556830                       380.114484   \n397               7031.437820                       298.440245   \n398               7041.572262                       527.840822   \n399               7039.795568                       496.882718   \n\n     Total Aggregated Costs  Total Aggregated Disutility  \\\n0               1508.076943                  8474.959863   \n1               2501.452860                 17340.377985   \n2                635.173514                  1929.509617   \n3               3194.660648                 24528.861545   \n4               3882.208647                 18851.332514   \n..                      ...                          ...   \n395              573.481607                   911.057349   \n396              811.317638                  4353.862739   \n397             1045.813936                  5225.068767   \n398              588.188767                  1140.269131   \n399              610.887720                   640.992985   \n\n     Intertemporal consumption GINI  Intertemporal damage GINI  \\\n0                          0.364596                   0.529320   \n1                          0.361761                   0.515173   \n2                          0.368475                   0.513531   \n3                          0.354713                   0.560385   \n4                          0.354443                   0.532072   \n..                              ...                        ...   \n395                        0.375537                   0.454004   \n396                        0.373875                   0.509293   \n397                        0.373317                   0.501543   \n398                        0.375583                   0.449183   \n399                        0.375662                   0.441937   \n\n     Intertemporal highest damage p/c  Total Output 2035  Total Output 2055  \\\n0                            2.968196         153.320004         256.120403   \n1                            4.766402         153.081209         254.972955   \n2                            9.599109         153.757538         257.452762   \n3                           15.849858         153.059706         254.945493   \n4                            6.401280         152.885398         254.038817   \n..                                ...                ...                ...   \n395                          4.107199         150.465445         243.537754   \n396                         10.657532         150.458153         243.662507   \n397                         13.120989         150.270861         242.907249   \n398                          1.381456         150.428022         243.398457   \n399                          4.456841         150.375545         243.192493   \n\n     Total Output 2075  ...  Industrial Emission 2305  Total Output 2105  \\\n0           380.898342  ...                  0.001981         619.945278   \n1           377.658242  ...                 -8.791030         609.853508   \n2           384.052873  ...                 -9.030554         628.523013   \n3           377.589393  ...                  0.001981         609.344703   \n4           374.851409  ...                 -8.581409         599.613410   \n..                 ...  ...                       ...                ...   \n395         352.301542  ...                 -8.069107         559.581044   \n396         352.756460  ...                  0.001981         559.994198   \n397         350.917067  ...                  0.001981         555.661113   \n398         351.988743  ...                 -8.067781         558.957938   \n399         351.510703  ...                 -8.065775         557.972360   \n\n     Total Output 2205  Total Output 2305  Utility 2105  Utility 2205  \\\n0          1617.636749        2949.397820   3850.055945   1814.520224   \n1          1545.215046        2838.920236   3826.013606   1800.416262   \n2          1667.290631        3082.027437   3871.277494   1824.025466   \n3          1523.424018        2664.638010   3824.788989   1795.928239   \n4          1457.439116        2632.611067   3801.650417   1781.903766   \n..                 ...                ...           ...           ...   \n395        1491.924775        2761.774017   5554.848962   3727.389214   \n396        1478.633075        2720.392554   5555.166686   3721.441663   \n397        1464.557712        2689.674418   5538.998662   3715.666915   \n398        1491.133938        2760.330317   5552.485806   3727.089695   \n399        1489.923917        2758.150687   5548.762497   3726.629179   \n\n     Utility 2305  Lowest income per capita 2105  \\\n0      723.126936                       6.340931   \n1      720.088626                       6.192273   \n2      726.710905                       5.798947   \n3      714.548782                       5.075841   \n4      713.427709                       6.051320   \n..            ...                            ...   \n395   2106.817921                       6.357871   \n396   2103.357283                       5.673223   \n397   2100.802876                       5.162327   \n398   2106.715351                       6.712938   \n399   2106.559958                       6.263648   \n\n     Lowest income per capita 2205  Lowest income per capita 2305  \n0                        20.828683                      38.441277  \n1                        19.570056                      36.733369  \n2                        17.694997                      26.927742  \n3                         9.636078                       0.010000  \n4                        18.137401                      33.632454  \n..                             ...                            ...  \n395                      22.320986                      41.395573  \n396                      18.238691                      24.090325  \n397                      16.171511                      14.056610  \n398                      23.420750                      43.950994  \n399                      22.177951                      41.125168  \n\n[400 rows x 97 columns]",
      "text/html": "<div>\n<style scoped>\n    .dataframe tbody tr th:only-of-type {\n        vertical-align: middle;\n    }\n\n    .dataframe tbody tr th {\n        vertical-align: top;\n    }\n\n    .dataframe thead th {\n        text-align: right;\n    }\n</style>\n<table border=\"1\" class=\"dataframe\">\n  <thead>\n    <tr style=\"text-align: right;\">\n      <th></th>\n      <th>Total Aggregated Utility</th>\n      <th>Intertemporal lowest income p/c</th>\n      <th>Total Aggregated Costs</th>\n      <th>Total Aggregated Disutility</th>\n      <th>Intertemporal consumption GINI</th>\n      <th>Intertemporal damage GINI</th>\n      <th>Intertemporal highest damage p/c</th>\n      <th>Total Output 2035</th>\n      <th>Total Output 2055</th>\n      <th>Total Output 2075</th>\n      <th>...</th>\n      <th>Industrial Emission 2305</th>\n      <th>Total Output 2105</th>\n      <th>Total Output 2205</th>\n      <th>Total Output 2305</th>\n      <th>Utility 2105</th>\n      <th>Utility 2205</th>\n      <th>Utility 2305</th>\n      <th>Lowest income per capita 2105</th>\n      <th>Lowest income per capita 2205</th>\n      <th>Lowest income per capita 2305</th>\n    </tr>\n  </thead>\n  <tbody>\n    <tr>\n      <th>0</th>\n      <td>4196.792629</td>\n      <td>470.138558</td>\n      <td>1508.076943</td>\n      <td>8474.959863</td>\n      <td>0.364596</td>\n      <td>0.529320</td>\n      <td>2.968196</td>\n      <td>153.320004</td>\n      <td>256.120403</td>\n      <td>380.898342</td>\n      <td>...</td>\n      <td>0.001981</td>\n      <td>619.945278</td>\n      <td>1617.636749</td>\n      <td>2949.397820</td>\n      <td>3850.055945</td>\n      <td>1814.520224</td>\n      <td>723.126936</td>\n      <td>6.340931</td>\n      <td>20.828683</td>\n      <td>38.441277</td>\n    </tr>\n    <tr>\n      <th>1</th>\n      <td>4181.350510</td>\n      <td>446.142432</td>\n      <td>2501.452860</td>\n      <td>17340.377985</td>\n      <td>0.361761</td>\n      <td>0.515173</td>\n      <td>4.766402</td>\n      <td>153.081209</td>\n      <td>254.972955</td>\n      <td>377.658242</td>\n      <td>...</td>\n      <td>-8.791030</td>\n      <td>609.853508</td>\n      <td>1545.215046</td>\n      <td>2838.920236</td>\n      <td>3826.013606</td>\n      <td>1800.416262</td>\n      <td>720.088626</td>\n      <td>6.192273</td>\n      <td>19.570056</td>\n      <td>36.733369</td>\n    </tr>\n    <tr>\n      <th>2</th>\n      <td>4210.154510</td>\n      <td>385.408446</td>\n      <td>635.173514</td>\n      <td>1929.509617</td>\n      <td>0.368475</td>\n      <td>0.513531</td>\n      <td>9.599109</td>\n      <td>153.757538</td>\n      <td>257.452762</td>\n      <td>384.052873</td>\n      <td>...</td>\n      <td>-9.030554</td>\n      <td>628.523013</td>\n      <td>1667.290631</td>\n      <td>3082.027437</td>\n      <td>3871.277494</td>\n      <td>1824.025466</td>\n      <td>726.710905</td>\n      <td>5.798947</td>\n      <td>17.694997</td>\n      <td>26.927742</td>\n    </tr>\n    <tr>\n      <th>3</th>\n      <td>4178.149333</td>\n      <td>131.959387</td>\n      <td>3194.660648</td>\n      <td>24528.861545</td>\n      <td>0.354713</td>\n      <td>0.560385</td>\n      <td>15.849858</td>\n      <td>153.059706</td>\n      <td>254.945493</td>\n      <td>377.589393</td>\n      <td>...</td>\n      <td>0.001981</td>\n      <td>609.344703</td>\n      <td>1523.424018</td>\n      <td>2664.638010</td>\n      <td>3824.788989</td>\n      <td>1795.928239</td>\n      <td>714.548782</td>\n      <td>5.075841</td>\n      <td>9.636078</td>\n      <td>0.010000</td>\n    </tr>\n    <tr>\n      <th>4</th>\n      <td>4163.679450</td>\n      <td>414.609853</td>\n      <td>3882.208647</td>\n      <td>18851.332514</td>\n      <td>0.354443</td>\n      <td>0.532072</td>\n      <td>6.401280</td>\n      <td>152.885398</td>\n      <td>254.038817</td>\n      <td>374.851409</td>\n      <td>...</td>\n      <td>-8.581409</td>\n      <td>599.613410</td>\n      <td>1457.439116</td>\n      <td>2632.611067</td>\n      <td>3801.650417</td>\n      <td>1781.903766</td>\n      <td>713.427709</td>\n      <td>6.051320</td>\n      <td>18.137401</td>\n      <td>33.632454</td>\n    </tr>\n    <tr>\n      <th>...</th>\n      <td>...</td>\n      <td>...</td>\n      <td>...</td>\n      <td>...</td>\n      <td>...</td>\n      <td>...</td>\n      <td>...</td>\n      <td>...</td>\n      <td>...</td>\n      <td>...</td>\n      <td>...</td>\n      <td>...</td>\n      <td>...</td>\n      <td>...</td>\n      <td>...</td>\n      <td>...</td>\n      <td>...</td>\n      <td>...</td>\n      <td>...</td>\n      <td>...</td>\n      <td>...</td>\n    </tr>\n    <tr>\n      <th>395</th>\n      <td>7042.729243</td>\n      <td>500.713256</td>\n      <td>573.481607</td>\n      <td>911.057349</td>\n      <td>0.375537</td>\n      <td>0.454004</td>\n      <td>4.107199</td>\n      <td>150.465445</td>\n      <td>243.537754</td>\n      <td>352.301542</td>\n      <td>...</td>\n      <td>-8.069107</td>\n      <td>559.581044</td>\n      <td>1491.924775</td>\n      <td>2761.774017</td>\n      <td>5554.848962</td>\n      <td>3727.389214</td>\n      <td>2106.817921</td>\n      <td>6.357871</td>\n      <td>22.320986</td>\n      <td>41.395573</td>\n    </tr>\n    <tr>\n      <th>396</th>\n      <td>7040.556830</td>\n      <td>380.114484</td>\n      <td>811.317638</td>\n      <td>4353.862739</td>\n      <td>0.373875</td>\n      <td>0.509293</td>\n      <td>10.657532</td>\n      <td>150.458153</td>\n      <td>243.662507</td>\n      <td>352.756460</td>\n      <td>...</td>\n      <td>0.001981</td>\n      <td>559.994198</td>\n      <td>1478.633075</td>\n      <td>2720.392554</td>\n      <td>5555.166686</td>\n      <td>3721.441663</td>\n      <td>2103.357283</td>\n      <td>5.673223</td>\n      <td>18.238691</td>\n      <td>24.090325</td>\n    </tr>\n    <tr>\n      <th>397</th>\n      <td>7031.437820</td>\n      <td>298.440245</td>\n      <td>1045.813936</td>\n      <td>5225.068767</td>\n      <td>0.373317</td>\n      <td>0.501543</td>\n      <td>13.120989</td>\n      <td>150.270861</td>\n      <td>242.907249</td>\n      <td>350.917067</td>\n      <td>...</td>\n      <td>0.001981</td>\n      <td>555.661113</td>\n      <td>1464.557712</td>\n      <td>2689.674418</td>\n      <td>5538.998662</td>\n      <td>3715.666915</td>\n      <td>2100.802876</td>\n      <td>5.162327</td>\n      <td>16.171511</td>\n      <td>14.056610</td>\n    </tr>\n    <tr>\n      <th>398</th>\n      <td>7041.572262</td>\n      <td>527.840822</td>\n      <td>588.188767</td>\n      <td>1140.269131</td>\n      <td>0.375583</td>\n      <td>0.449183</td>\n      <td>1.381456</td>\n      <td>150.428022</td>\n      <td>243.398457</td>\n      <td>351.988743</td>\n      <td>...</td>\n      <td>-8.067781</td>\n      <td>558.957938</td>\n      <td>1491.133938</td>\n      <td>2760.330317</td>\n      <td>5552.485806</td>\n      <td>3727.089695</td>\n      <td>2106.715351</td>\n      <td>6.712938</td>\n      <td>23.420750</td>\n      <td>43.950994</td>\n    </tr>\n    <tr>\n      <th>399</th>\n      <td>7039.795568</td>\n      <td>496.882718</td>\n      <td>610.887720</td>\n      <td>640.992985</td>\n      <td>0.375662</td>\n      <td>0.441937</td>\n      <td>4.456841</td>\n      <td>150.375545</td>\n      <td>243.192493</td>\n      <td>351.510703</td>\n      <td>...</td>\n      <td>-8.065775</td>\n      <td>557.972360</td>\n      <td>1489.923917</td>\n      <td>2758.150687</td>\n      <td>5548.762497</td>\n      <td>3726.629179</td>\n      <td>2106.559958</td>\n      <td>6.263648</td>\n      <td>22.177951</td>\n      <td>41.125168</td>\n    </tr>\n  </tbody>\n</table>\n<p>400 rows × 97 columns</p>\n</div>"
     },
     "execution_count": 4,
     "metadata": {},
     "output_type": "execute_result"
    }
   ],
   "source": [
    "pd.DataFrame(outcomes)"
   ],
   "metadata": {
    "collapsed": false,
    "pycharm": {
     "name": "#%%\n"
    }
   }
  },
  {
   "cell_type": "markdown",
   "source": [
    "## Create new dataframe with min and max values"
   ],
   "metadata": {
    "collapsed": false
   }
  },
  {
   "cell_type": "code",
   "execution_count": 5,
   "outputs": [],
   "source": [
    "new_dict = {}\n",
    "resolution = 10\n",
    "\n",
    "for k, v in outcomes.items():\n",
    "\n",
    "    minimum = v.min()\n",
    "    maximum = v.max()\n",
    "\n",
    "    epsilon = (maximum - minimum) / resolution\n",
    "    epsilon_rounded = round(epsilon, 3)\n",
    "\n",
    "    if epsilon_rounded == 0.0:\n",
    "        epsilon_rounded = epsilon\n",
    "\n",
    "    new_dict[k] = epsilon_rounded"
   ],
   "metadata": {
    "collapsed": false,
    "pycharm": {
     "name": "#%%\n"
    }
   }
  },
  {
   "cell_type": "code",
   "execution_count": 6,
   "outputs": [
    {
     "name": "stdout",
     "output_type": "stream",
     "text": [
      "('Total Aggregated Utility', 1553.89)\n",
      "('Intertemporal lowest income p/c', 49.705)\n",
      "('Total Aggregated Costs', 810.063)\n",
      "('Total Aggregated Disutility', 5142.79)\n",
      "('Intertemporal consumption GINI', 0.008)\n",
      "('Intertemporal damage GINI', 0.022)\n",
      "('Intertemporal highest damage p/c', 2.039)\n",
      "('Total Output 2035', 1.111)\n",
      "('Total Output 2055', 4.871)\n",
      "('Total Output 2075', 11.227)\n",
      "('Utility 2035', 124.685)\n",
      "('Utility 2055', 306.548)\n",
      "('Utility 2075', 499.631)\n",
      "('Lowest income per capita 2035', 0.021)\n",
      "('Lowest income per capita 2055', 0.053)\n",
      "('Lowest income per capita 2075', 0.123)\n",
      "('Costs 2035', 0.16)\n",
      "('Costs 2055', 0.641)\n",
      "('Costs 2075', 1.52)\n",
      "('Disutility 2035', 0.78)\n",
      "('Disutility 2055', 1.343)\n",
      "('Disutility 2075', 2.116)\n",
      "('Intratemporal consumption GINI 2035', 8.71423901059043e-05)\n",
      "('Intratemporal consumption GINI 2055', 0.001)\n",
      "('Intratemporal consumption GINI 2075', 0.001)\n",
      "('Intratemporal damage GINI 2035', 0.037)\n",
      "('Intratemporal damage GINI 2055', 0.011)\n",
      "('Intratemporal damage GINI 2075', 0.012)\n",
      "('Highest damage per capita 2035', 0.009)\n",
      "('Highest damage per capita 2055', 0.016)\n",
      "('Highest damage per capita 2075', 0.026)\n",
      "('Distance to consumption threshold 2035', 0.006)\n",
      "('Distance to consumption threshold 2055', 0.032)\n",
      "('Distance to consumption threshold 2075', 0.048)\n",
      "('Population below consumption threshold 2035', 29.584)\n",
      "('Population below consumption threshold 2055', 0.0)\n",
      "('Population below consumption threshold 2075', 0.0)\n",
      "('Distance to damage threshold 2035', 0.0)\n",
      "('Distance to damage threshold 2055', 0.014)\n",
      "('Distance to damage threshold 2075', 0.094)\n",
      "('Population above damage threshold 2035', 0.0)\n",
      "('Population above damage threshold 2055', 316.619)\n",
      "('Population above damage threshold 2075', 602.504)\n",
      "('Atmospheric Temperature 2035', 0.123)\n",
      "('Atmospheric Temperature 2055', 0.215)\n",
      "('Atmospheric Temperature 2075', 0.313)\n",
      "('Industrial Emission 2035', 0.425)\n",
      "('Industrial Emission 2055', 1.032)\n",
      "('Industrial Emission 2075', 1.67)\n",
      "('Damages 2035', 0.091)\n",
      "('Damages 2055', 0.376)\n",
      "('Damages 2075', 1.071)\n",
      "('Damages 2105', 3.634)\n",
      "('Damages 2205', 31.948)\n",
      "('Damages 2305', 95.212)\n",
      "('Costs 2105', 3.602)\n",
      "('Costs 2205', 31.74)\n",
      "('Costs 2305', 95.206)\n",
      "('Disutility 2105', 5.47)\n",
      "('Disutility 2205', 38.845)\n",
      "('Disutility 2305', 96.435)\n",
      "('Intratemporal consumption GINI 2105', 0.001)\n",
      "('Intratemporal consumption GINI 2205', 0.003)\n",
      "('Intratemporal consumption GINI 2305', 0.008)\n",
      "('Intratemporal damage GINI 2105', 0.037)\n",
      "('Intratemporal damage GINI 2205', 0.037)\n",
      "('Intratemporal damage GINI 2305', 0.031)\n",
      "('Highest damage per capita 2105', 0.046)\n",
      "('Highest damage per capita 2205', 0.096)\n",
      "('Highest damage per capita 2305', 0.095)\n",
      "('Distance to consumption threshold 2105', 0.068)\n",
      "('Distance to consumption threshold 2205', 7.115)\n",
      "('Distance to consumption threshold 2305', 7.47)\n",
      "('Population below consumption threshold 2105', 37.262)\n",
      "('Population below consumption threshold 2205', 110.745)\n",
      "('Population below consumption threshold 2305', 165.253)\n",
      "('Distance to damage threshold 2105', 0.493)\n",
      "('Distance to damage threshold 2205', 6.637)\n",
      "('Distance to damage threshold 2305', 22.085)\n",
      "('Population above damage threshold 2105', 760.596)\n",
      "('Population above damage threshold 2205', 796.05)\n",
      "('Population above damage threshold 2305', 836.44)\n",
      "('Atmospheric Temperature 2105', 0.509)\n",
      "('Atmospheric Temperature 2205', 0.879)\n",
      "('Atmospheric Temperature 2305', 1.029)\n",
      "('Industrial Emission 2105', 1.996)\n",
      "('Industrial Emission 2205', 1.827)\n",
      "('Industrial Emission 2305', 0.934)\n",
      "('Total Output 2105', 24.911)\n",
      "('Total Output 2205', 91.908)\n",
      "('Total Output 2305', 190.147)\n",
      "('Utility 2105', 761.169)\n",
      "('Utility 2205', 1136.681)\n",
      "('Utility 2305', 1225.811)\n",
      "('Lowest income per capita 2105', 0.354)\n",
      "('Lowest income per capita 2205', 2.341)\n",
      "('Lowest income per capita 2305', 4.399)\n"
     ]
    }
   ],
   "source": [
    "for i in new_dict.items():\n",
    "    print(i)"
   ],
   "metadata": {
    "collapsed": false,
    "pycharm": {
     "name": "#%%\n"
    }
   }
  },
  {
   "cell_type": "markdown",
   "source": [
    "## Determining roughly some epsilons\n",
    "\n",
    "Looking at the results and picking the lowest values, roughly."
   ],
   "metadata": {
    "collapsed": false
   }
  },
  {
   "cell_type": "code",
   "execution_count": 7,
   "outputs": [],
   "source": [
    "dict_epsilons = {\n",
    "    'Total Aggregated Utility': 1000,\n",
    "    'Utility': 100,\n",
    "    'Lowest income per capita': 0.02,\n",
    "    'Intratemporal utility GINI': 0.001,\n",
    "    'Total Output': 1.0,\n",
    "    'Atmospheric Temperature': 0.1,\n",
    "    'Highest climate impact per capita': 0.01,\n",
    "    'Intratemporal impact GINI': 0.01,\n",
    "    'Damages': 0.4,\n",
    "    'Industrial Emission': 0.1,\n",
    "    'Population under threshold': 30,\n",
    "    'Distance to threshold': 0.01\n",
    "}"
   ],
   "metadata": {
    "collapsed": false,
    "pycharm": {
     "name": "#%%\n"
    }
   }
  }
 ],
 "metadata": {
  "kernelspec": {
   "name": "pycharm-2517ad8d",
   "language": "python",
   "display_name": "PyCharm (md_final)"
  },
  "language_info": {
   "codemirror_mode": {
    "name": "ipython",
    "version": 2
   },
   "file_extension": ".py",
   "mimetype": "text/x-python",
   "name": "python",
   "nbconvert_exporter": "python",
   "pygments_lexer": "ipython2",
   "version": "2.7.6"
  }
 },
 "nbformat": 4,
 "nbformat_minor": 0
}